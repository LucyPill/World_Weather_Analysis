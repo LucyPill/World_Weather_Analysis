{
 "cells": [
  {
   "cell_type": "code",
   "execution_count": 14,
   "id": "1004474b",
   "metadata": {},
   "outputs": [],
   "source": [
    "# Import the random module.\n",
    "import random"
   ]
  },
  {
   "cell_type": "markdown",
   "id": "b7ee587c",
   "metadata": {},
   "source": [
    "## The randint() Function\n",
    "* randint is short for \"random integer.\" In the second cell, after random., type randint(-90, 90), as shown below.\n",
    "\n",
    "* When we run this cell, we'll get a single integer between –90 and 90 because we need two latitudes between –90 and 90."
   ]
  },
  {
   "cell_type": "code",
   "execution_count": 15,
   "id": "c5bd6192",
   "metadata": {},
   "outputs": [
    {
     "data": {
      "text/plain": [
       "-89"
      ]
     },
     "execution_count": 15,
     "metadata": {},
     "output_type": "execute_result"
    }
   ],
   "source": [
    "random.randint(-90, 90)"
   ]
  },
  {
   "cell_type": "markdown",
   "id": "09196a65",
   "metadata": {},
   "source": [
    "* This is useful information, but it doesn't get the job done for us. Remember, we need 1,500 random decimal numbers. This function will only return one integer, not a floating-point decimal, between the given intervals. Let's try the random() function. "
   ]
  },
  {
   "cell_type": "markdown",
   "id": "886d2d5b",
   "metadata": {},
   "source": [
    "## The random() Function\n",
    "* Using the random() function, we can get a single floating-point decimal number between 0 and 1.0."
   ]
  },
  {
   "cell_type": "code",
   "execution_count": 16,
   "id": "a0975ebd",
   "metadata": {},
   "outputs": [
    {
     "data": {
      "text/plain": [
       "0.9257780696498876"
      ]
     },
     "execution_count": 16,
     "metadata": {},
     "output_type": "execute_result"
    }
   ],
   "source": [
    "random.random()"
   ]
  },
  {
   "cell_type": "markdown",
   "id": "612c05eb",
   "metadata": {},
   "source": [
    "* If we combine random.randint(-90, 89) and random.random() to generate a floating-point decimal between –90 and 90, we can generate a random latitude.\n",
    "* We changed the lower range of the randint() because we want whole numbers up to 89, so when we add the floating-point decimal number, we'll generate latitudes between –89.99999 and 89.99999.\n",
    "* Using these two functions, we can write an algorithm that will generate latitudes between –90 and 89. Here is a small sample of what it might take to generate ten random floating-point decimal latitudes between –90 and 89."
   ]
  },
  {
   "cell_type": "code",
   "execution_count": 23,
   "id": "9ca67506",
   "metadata": {},
   "outputs": [],
   "source": [
    "x = 1\n",
    "latitudes = []\n",
    "while x < 11:\n",
    "    random_lat = random.randint(-90, 89) + random.random()\n",
    "    latitudes.append(random_lat)\n",
    "    x += 1"
   ]
  },
  {
   "cell_type": "markdown",
   "id": "680c0d02",
   "metadata": {},
   "source": [
    "In the code block above, we:\n",
    "\n",
    "* Assign the variable x to 1.\n",
    "* Initialize an empty list, latitudes.\n",
    "* We create a while loop where we generate a random latitude and add it to the list.\n",
    "* After the random latitude is added to the list we add one to the variable \"x\".\n",
    "* The while loop condition is checked again and will continue to run as long as x is less than 11."
   ]
  },
  {
   "cell_type": "markdown",
   "id": "e36cc2dd",
   "metadata": {},
   "source": [
    "#### we would have to use a similar method to get random longitudes between –180 and 180, which we can then pair with the latitudes. This looks promising, but the code to generate the latitudes above is a little long.\n",
    "*Let's try another function, the randrange() function."
   ]
  },
  {
   "cell_type": "markdown",
   "id": "94eaf99b",
   "metadata": {},
   "source": [
    "## The randrange() Function\n",
    "* The randrange() function behaves differently than the previous two functions. Inside the parentheses, we need to add two numbers, a lower and upper limit, separated by a comma.\n",
    "\n",
    "* For the randrange() function, there is an option to add a step parameter and set it equal to an integer, which will generate increments of a given integer value, from the lower to the upper limit.\n",
    "* If you don't add the step parameter, the output will be a number with an increment of 1, which is the default integer value."
   ]
  },
  {
   "cell_type": "code",
   "execution_count": 25,
   "id": "71524137",
   "metadata": {},
   "outputs": [
    {
     "data": {
      "text/plain": [
       "-78"
      ]
     },
     "execution_count": 25,
     "metadata": {},
     "output_type": "execute_result"
    }
   ],
   "source": [
    "random.randrange(-90, 90, step=3)"
   ]
  },
  {
   "cell_type": "markdown",
   "id": "e754f793",
   "metadata": {},
   "source": [
    "* This function might help us by combining the random.randrange() and random.random() functions to generate a floating-point decimal between –90 and 90, like we did with the random.randint() and random.random() functions."
   ]
  },
  {
   "cell_type": "markdown",
   "id": "92a5d39b",
   "metadata": {},
   "source": [
    "## The uniform() Function\n",
    "* The uniform() function will allow us to generate a floating-point decimal number between two given numbers inside the parentheses.\n",
    "\n"
   ]
  },
  {
   "cell_type": "code",
   "execution_count": 26,
   "id": "f884dec0",
   "metadata": {},
   "outputs": [
    {
     "data": {
      "text/plain": [
       "50.10354685757295"
      ]
     },
     "execution_count": 26,
     "metadata": {},
     "output_type": "execute_result"
    }
   ],
   "source": [
    "random.uniform(-90, 90)"
   ]
  },
  {
   "cell_type": "markdown",
   "id": "6e9f4d4d",
   "metadata": {},
   "source": [
    "* The uniform() function could prove to be quite useful because it will return a floating-point decimal number!\n",
    "* To help us generate the 1500 latitudes and longitudes, we can combine the NumPy module with one of the random module functions."
   ]
  },
  {
   "cell_type": "markdown",
   "id": "862c5c8b",
   "metadata": {},
   "source": [
    "## The NumPy and random Modules\n",
    "* One way to generate more than a thousand latitudes and longitudes is to chain the NumPy module to the random module to create an array of latitudes or longitudes between the lowest and highest values, or –90° and 90°, and –180° and 180°, respectively. To accomplish this, we'll use the uniform() function from the random module."
   ]
  },
  {
   "cell_type": "code",
   "execution_count": 27,
   "id": "24ade75d",
   "metadata": {},
   "outputs": [],
   "source": [
    "# Import the NumPy module.\n",
    "import numpy as np"
   ]
  },
  {
   "cell_type": "code",
   "execution_count": 28,
   "id": "dd9e9f1c",
   "metadata": {},
   "outputs": [
    {
     "data": {
      "text/plain": [
       "47.499609169233764"
      ]
     },
     "execution_count": 28,
     "metadata": {},
     "output_type": "execute_result"
    }
   ],
   "source": [
    "np.random.uniform(-90.000, 90.000)"
   ]
  },
  {
   "cell_type": "markdown",
   "id": "f5233e61",
   "metadata": {},
   "source": [
    "* To generate more than one floating-point decimal number between –90 and 90, we can add the size parameter when we use the NumPy module and set that equal to any whole number.\n",
    "\n",
    "* Add the code np.random.uniform(-90.000, 90.000, size=50) to a new cell and run the cell. The output is an array of 50 floating-point decimal numbers between –90.000 and 90.000."
   ]
  },
  {
   "cell_type": "code",
   "execution_count": 29,
   "id": "1be2b824",
   "metadata": {},
   "outputs": [
    {
     "data": {
      "text/plain": [
       "array([-27.73201793, -53.3853685 , -21.56496045, -54.28051059,\n",
       "       -82.54699369, -40.8132187 ,  58.80660412,  71.79304789,\n",
       "       -50.96003635,  34.44464285,  -1.26205349,   0.26106426,\n",
       "        38.1368803 ,  -9.34900335, -66.44190897, -61.38173441,\n",
       "         4.58471689,  29.71821768, -61.53750183, -32.49235535,\n",
       "         5.70631873, -82.94075376,  49.10432342, -80.1536101 ,\n",
       "        84.5230655 ,  54.80033106,  28.61103013, -42.12745439,\n",
       "       -28.05374743,  75.71651683,   6.41388202,  85.8984434 ,\n",
       "        21.66845421,  71.67643437,  56.52399055,  29.73650435,\n",
       "       -68.46073425, -80.05844544,  43.55683566,  57.41811264,\n",
       "       -71.09012186,  73.49658678, -22.49671094,  46.69650958,\n",
       "       -55.15766965, -19.75482862, -37.66034968,  36.70081801,\n",
       "        61.01867308, -40.33985864])"
      ]
     },
     "execution_count": 29,
     "metadata": {},
     "output_type": "execute_result"
    }
   ],
   "source": [
    "np.random.uniform(-90.000, 90.000, size=50)"
   ]
  },
  {
   "cell_type": "markdown",
   "id": "8649c148",
   "metadata": {},
   "source": [
    "* Now we are getting somewhere–all we need to do is increase the parameter size to 1,500.\n",
    "\n",
    "* Is this method faster than creating a while loop like we did before? Let's test this for a size of 1,500.\n",
    "\n",
    "* To test how long a piece of code or function takes to run, we can import the \"timeit\" module and use the %timeit magic command when we run our code or call the function.\n",
    "\n",
    "First, import the timeit module in a new cell, and run the cell."
   ]
  },
  {
   "cell_type": "code",
   "execution_count": 32,
   "id": "dd36ac8b",
   "metadata": {},
   "outputs": [],
   "source": [
    "# Import timeit.\n",
    "import timeit"
   ]
  },
  {
   "cell_type": "code",
   "execution_count": 33,
   "id": "cbf156b5",
   "metadata": {},
   "outputs": [
    {
     "name": "stdout",
     "output_type": "stream",
     "text": [
      "13.2 µs ± 210 ns per loop (mean ± std. dev. of 7 runs, 100000 loops each)\n"
     ]
    }
   ],
   "source": [
    "%timeit np.random.uniform(-90.000, 90.000, size=1500)"
   ]
  },
  {
   "cell_type": "code",
   "execution_count": 34,
   "id": "9628535f",
   "metadata": {},
   "outputs": [
    {
     "name": "stdout",
     "output_type": "stream",
     "text": [
      "1.39 ms ± 3.86 µs per loop (mean ± std. dev. of 7 runs, 1000 loops each)\n"
     ]
    }
   ],
   "source": [
    "def latitudes(size):\n",
    "    latitudes = []\n",
    "    x = 0\n",
    "    while x < (size):\n",
    "        random_lat = random.randint(-90, 90) + random.random()\n",
    "        latitudes.append(random_lat)\n",
    "        x += 1\n",
    "    return latitudes\n",
    "# Call the function with 1500.\n",
    "%timeit latitudes(1500)"
   ]
  },
  {
   "cell_type": "markdown",
   "id": "c27cbbd5",
   "metadata": {},
   "source": [
    "* Using the np.random.uniform(-90.000, 90.000, size=1500) is 100 times faster than using the function, and our code is one line, whereas the function uses eight lines!"
   ]
  },
  {
   "cell_type": "markdown",
   "id": "8f3d52f5",
   "metadata": {},
   "source": [
    "## SKILL DRILL\n",
    "* Refactor the code for the while loop with the %timeit magic command and write a for loop that will generate the 1,500 latitudes."
   ]
  },
  {
   "cell_type": "code",
   "execution_count": 36,
   "id": "83b9a159",
   "metadata": {},
   "outputs": [
    {
     "name": "stdout",
     "output_type": "stream",
     "text": [
      "1.4 ms ± 32.3 µs per loop (mean ± std. dev. of 7 runs, 1000 loops each)\n"
     ]
    }
   ],
   "source": [
    "def latitudes_for_loop(size):\n",
    "    latitudes = []\n",
    "    for x in range(0, size):\n",
    "        random_lat = random.randint(-90, 90) + random.random()\n",
    "        latitudes.append(random_lat)\n",
    "\n",
    "    return latitudes\n",
    "# Call the function with 1500.\n",
    "%timeit latitudes_for_loop(1500)"
   ]
  }
 ],
 "metadata": {
  "kernelspec": {
   "display_name": "Python 3 (ipykernel)",
   "language": "python",
   "name": "python3"
  },
  "language_info": {
   "codemirror_mode": {
    "name": "ipython",
    "version": 3
   },
   "file_extension": ".py",
   "mimetype": "text/x-python",
   "name": "python",
   "nbconvert_exporter": "python",
   "pygments_lexer": "ipython3",
   "version": "3.9.7"
  }
 },
 "nbformat": 4,
 "nbformat_minor": 5
}
