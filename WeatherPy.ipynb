{
 "cells": [
  {
   "cell_type": "markdown",
   "id": "b9da62b2",
   "metadata": {},
   "source": [
    "## Create Latitude and Longitude Combinations"
   ]
  },
  {
   "cell_type": "code",
   "execution_count": 1,
   "id": "42376a08",
   "metadata": {},
   "outputs": [],
   "source": [
    "# Import the dependencies.\n",
    "import pandas as pd\n",
    "import matplotlib.pyplot as plt\n",
    "import numpy as np"
   ]
  },
  {
   "cell_type": "markdown",
   "id": "3704f063",
   "metadata": {},
   "source": [
    "* In the next cell, we'll add the code that generates the latitudes and longitudes, but first, they need to be stored so that we can access them later. Since we are creating arrays of latitudes and longitudes, we'll declare each array as a variable.\n",
    "* In the next cell, add the following code that we used to generate the random latitudes.\n",
    "* We'll create a similar code snippet that will generate longitudes. To ensure enough latitudes and longitudes, we'll start with 1,500. In addition, we'll pack the latitudes (lats) and longitudes (lngs) as pairs by zipping them (lat_lngs) with the zip() function."
   ]
  },
  {
   "cell_type": "code",
   "execution_count": 2,
   "id": "a037d7dd",
   "metadata": {},
   "outputs": [
    {
     "data": {
      "text/plain": [
       "<zip at 0x7f839f237240>"
      ]
     },
     "execution_count": 2,
     "metadata": {},
     "output_type": "execute_result"
    }
   ],
   "source": [
    "# Create a set of random latitude and longitude combinations.\n",
    "lats = np.random.uniform(low=-90.000, high=90.000, size=1500)\n",
    "lngs = np.random.uniform(low=-180.000, high=180.000, size=1500)\n",
    "lat_lngs = zip(lats, lngs)\n",
    "lat_lngs"
   ]
  },
  {
   "cell_type": "markdown",
   "id": "0b8aba78",
   "metadata": {},
   "source": [
    "The zip object packs each pair of lats and lngs having the same index in their respective array into a tuple. If there are 1,500 latitudes and longitudes, there will be 1,500 tuples of paired latitudes and longitudes, where each latitude and longitude in a tuple can be accessed by the index of 0 and 1, respectively."
   ]
  },
  {
   "cell_type": "markdown",
   "id": "157ce3dd",
   "metadata": {},
   "source": [
    "## Let's unpack our lat_lngs zip object into a list. This way, we only need to create a set of random latitudes and longitudes once."
   ]
  },
  {
   "cell_type": "code",
   "execution_count": 3,
   "id": "7e7cae90",
   "metadata": {},
   "outputs": [],
   "source": [
    "# Add the latitudes and longitudes to a list.\n",
    "coordinates = list(lat_lngs)"
   ]
  },
  {
   "cell_type": "markdown",
   "id": "268673b8",
   "metadata": {},
   "source": [
    "# 6.1.5 Generate Random World Cities"
   ]
  },
  {
   "cell_type": "markdown",
   "id": "245a9941",
   "metadata": {},
   "source": [
    "* With our list of random latitudes and longitudes, we'll use the coordinates in our lat_lngs tuple to find the nearest city using Python's citipy module."
   ]
  },
  {
   "cell_type": "code",
   "execution_count": 4,
   "id": "754a52ab",
   "metadata": {},
   "outputs": [
    {
     "name": "stdout",
     "output_type": "stream",
     "text": [
      "Requirement already satisfied: citipy in /Users/lucypepe/opt/anaconda3/lib/python3.9/site-packages (0.0.5)\r\n",
      "Requirement already satisfied: kdtree>=0.12 in /Users/lucypepe/opt/anaconda3/lib/python3.9/site-packages (from citipy) (0.16)\r\n"
     ]
    }
   ],
   "source": [
    "!pip install citipy"
   ]
  },
  {
   "cell_type": "code",
   "execution_count": 5,
   "id": "a4d65aa7",
   "metadata": {},
   "outputs": [],
   "source": [
    "# Use the citipy module to determine city based on latitude and longitude.\n",
    "from citipy import citipy"
   ]
  },
  {
   "cell_type": "code",
   "execution_count": 6,
   "id": "18b05ddb",
   "metadata": {},
   "outputs": [
    {
     "data": {
      "text/plain": [
       "631"
      ]
     },
     "execution_count": 6,
     "metadata": {},
     "output_type": "execute_result"
    }
   ],
   "source": [
    "# Create a list for holding the cities.\n",
    "cities = []\n",
    "# Identify the nearest city for each latitude and longitude combination.\n",
    "for coordinate in coordinates:\n",
    "    city = citipy.nearest_city(coordinate[0], coordinate[1]).city_name\n",
    "\n",
    "    # If the city is unique, then we will add it to the cities list.\n",
    "    if city not in cities:\n",
    "        cities.append(city)\n",
    "# Print the city count to confirm sufficient count.\n",
    "len(cities)\n"
   ]
  },
  {
   "cell_type": "markdown",
   "id": "30734a62",
   "metadata": {},
   "source": [
    "# 6.2.1 Understanding APIs"
   ]
  },
  {
   "cell_type": "markdown",
   "id": "4469ad67",
   "metadata": {},
   "source": [
    "# 6.2.2 Get Started with OpenWeatherMap API"
   ]
  },
  {
   "cell_type": "code",
   "execution_count": 7,
   "id": "56a1aa88",
   "metadata": {},
   "outputs": [],
   "source": [
    "# Import the requests library.\n",
    "import requests\n",
    "\n",
    "# Import the API key.\n",
    "from config import weather_api_key"
   ]
  },
  {
   "cell_type": "code",
   "execution_count": 8,
   "id": "909871ff",
   "metadata": {},
   "outputs": [],
   "source": [
    "# Starting URL for Weather Map API Call.\n",
    "url = \"http://api.openweathermap.org/data/2.5/weather?units=Imperial&APPID=\" + weather_api_key"
   ]
  },
  {
   "cell_type": "code",
   "execution_count": 9,
   "id": "b876ee94",
   "metadata": {},
   "outputs": [
    {
     "name": "stdout",
     "output_type": "stream",
     "text": [
      "http://api.openweathermap.org/data/2.5/weather?units=Imperial&APPID=5b080f7f22dbf268c1c5ab4257892315&q=Boston\n"
     ]
    }
   ],
   "source": [
    "# Create an endpoint URL for a city.\n",
    "city_url = url + \"&q=\" + \"Boston\"\n",
    "print(city_url)"
   ]
  },
  {
   "cell_type": "markdown",
   "id": "6cbfdce8",
   "metadata": {},
   "source": [
    "## The JavaScript Object Notation Format for API Data"
   ]
  },
  {
   "cell_type": "markdown",
   "id": "e8ecd100",
   "metadata": {},
   "source": [
    "* When we retrieve data from a website, we have to make a \"request,\" which returns data in a text format, not in a tab- or comma-separated file.\n",
    "* One format we can use to parse data is JavaScript Object Notation (JSON).\n",
    "* The JSON format is also referred to as an \"object\" or \"JSON object.\"\n",
    "* The data inside a JSON object opens and closes with curly braces, much like a Python dictionary.\n",
    "* Inside the JSON object is a collection of dictionaries and arrays."
   ]
  },
  {
   "cell_type": "markdown",
   "id": "07dd1ef6",
   "metadata": {},
   "source": [
    "## The Python Requests Library\n"
   ]
  },
  {
   "cell_type": "markdown",
   "id": "a0794639",
   "metadata": {},
   "source": [
    "* To request JSON data over the internet, we use the Requests Library in Python.\n",
    "* The Anaconda installation comes with version 2.22 of the Requests Library."
   ]
  },
  {
   "cell_type": "code",
   "execution_count": 10,
   "id": "4058eefd",
   "metadata": {},
   "outputs": [
    {
     "data": {
      "text/plain": [
       "'2.26.0'"
      ]
     },
     "execution_count": 10,
     "metadata": {},
     "output_type": "execute_result"
    }
   ],
   "source": [
    "import requests\n",
    "requests.__version__"
   ]
  },
  {
   "cell_type": "markdown",
   "id": "eca2a028",
   "metadata": {},
   "source": [
    "# 6.2.5 Parse a Response from an API\n",
    "Before we collect weather data from more than 500 cities, we'll walk through how to get the weather data from Boston."
   ]
  },
  {
   "cell_type": "code",
   "execution_count": 11,
   "id": "a679371e",
   "metadata": {},
   "outputs": [
    {
     "data": {
      "text/plain": [
       "{'coord': {'lon': -71.0598, 'lat': 42.3584},\n",
       " 'weather': [{'id': 801,\n",
       "   'main': 'Clouds',\n",
       "   'description': 'few clouds',\n",
       "   'icon': '02n'}],\n",
       " 'base': 'stations',\n",
       " 'main': {'temp': 6.75,\n",
       "  'feels_like': -3.01,\n",
       "  'temp_min': -0.36,\n",
       "  'temp_max': 13.95,\n",
       "  'pressure': 1022,\n",
       "  'humidity': 77},\n",
       " 'visibility': 10000,\n",
       " 'wind': {'speed': 5.32, 'deg': 264, 'gust': 11.65},\n",
       " 'clouds': {'all': 11},\n",
       " 'dt': 1643606746,\n",
       " 'sys': {'type': 2,\n",
       "  'id': 2039376,\n",
       "  'country': 'US',\n",
       "  'sunrise': 1643630333,\n",
       "  'sunset': 1643666182},\n",
       " 'timezone': -18000,\n",
       " 'id': 4930956,\n",
       " 'name': 'Boston',\n",
       " 'cod': 200}"
      ]
     },
     "execution_count": 11,
     "metadata": {},
     "output_type": "execute_result"
    }
   ],
   "source": [
    "# Create an endpoint URL for a city.\n",
    "city_url = url + \"&q=\" + \"Boston\"\n",
    "city_weather = requests.get(city_url)\n",
    "city_weather.json()"
   ]
  },
  {
   "cell_type": "markdown",
   "id": "8c06be0b",
   "metadata": {},
   "source": [
    "### 1. In a new cell, let's assign a variable to the city_weather.json() data to the variable \"boston_data\" and run the cell."
   ]
  },
  {
   "cell_type": "code",
   "execution_count": 12,
   "id": "3022f130",
   "metadata": {},
   "outputs": [
    {
     "data": {
      "text/plain": [
       "{'coord': {'lon': -71.0598, 'lat': 42.3584},\n",
       " 'weather': [{'id': 801,\n",
       "   'main': 'Clouds',\n",
       "   'description': 'few clouds',\n",
       "   'icon': '02n'}],\n",
       " 'base': 'stations',\n",
       " 'main': {'temp': 6.75,\n",
       "  'feels_like': -3.01,\n",
       "  'temp_min': -0.36,\n",
       "  'temp_max': 13.95,\n",
       "  'pressure': 1022,\n",
       "  'humidity': 77},\n",
       " 'visibility': 10000,\n",
       " 'wind': {'speed': 5.32, 'deg': 264, 'gust': 11.65},\n",
       " 'clouds': {'all': 11},\n",
       " 'dt': 1643606746,\n",
       " 'sys': {'type': 2,\n",
       "  'id': 2039376,\n",
       "  'country': 'US',\n",
       "  'sunrise': 1643630333,\n",
       "  'sunset': 1643666182},\n",
       " 'timezone': -18000,\n",
       " 'id': 4930956,\n",
       " 'name': 'Boston',\n",
       " 'cod': 200}"
      ]
     },
     "execution_count": 12,
     "metadata": {},
     "output_type": "execute_result"
    }
   ],
   "source": [
    "# Get the JSON data.\n",
    "boston_data = city_weather.json()\n",
    "boston_data"
   ]
  },
  {
   "cell_type": "markdown",
   "id": "161c01c2",
   "metadata": {},
   "source": [
    "## 2. Next, using the sys key to get the corresponding value, we type boston_data['sys'] in a new cell and run the cell. The output is another dictionary as shown in the following image."
   ]
  },
  {
   "cell_type": "code",
   "execution_count": 13,
   "id": "233dd4ba",
   "metadata": {},
   "outputs": [
    {
     "data": {
      "text/plain": [
       "{'type': 2,\n",
       " 'id': 2039376,\n",
       " 'country': 'US',\n",
       " 'sunrise': 1643630333,\n",
       " 'sunset': 1643666182}"
      ]
     },
     "execution_count": 13,
     "metadata": {},
     "output_type": "execute_result"
    }
   ],
   "source": [
    "boston_data[\"sys\"]"
   ]
  },
  {
   "cell_type": "markdown",
   "id": "bfbccf80",
   "metadata": {},
   "source": [
    "## 3. If we add the country key in brackets after the sys key, and run the cell again, ‘US’ will be returned in the output."
   ]
  },
  {
   "cell_type": "code",
   "execution_count": 14,
   "id": "5379e374",
   "metadata": {},
   "outputs": [
    {
     "data": {
      "text/plain": [
       "'US'"
      ]
     },
     "execution_count": 14,
     "metadata": {},
     "output_type": "execute_result"
    }
   ],
   "source": [
    "boston_data[\"sys\"][\"country\"]"
   ]
  },
  {
   "cell_type": "markdown",
   "id": "64e59a94",
   "metadata": {},
   "source": [
    "If we want to retrieve the date in the weather data, we would add the dt key to the boston_data variable like this: boston_data[\"dt\"]."
   ]
  },
  {
   "cell_type": "code",
   "execution_count": 15,
   "id": "80b6345b",
   "metadata": {},
   "outputs": [
    {
     "data": {
      "text/plain": [
       "1643606746"
      ]
     },
     "execution_count": 15,
     "metadata": {},
     "output_type": "execute_result"
    }
   ],
   "source": [
    "boston_data[\"dt\"]"
   ]
  },
  {
   "cell_type": "markdown",
   "id": "5d549d97",
   "metadata": {},
   "source": [
    "* Using similar syntax to get the time of day, we can get the latitude, longitude, maximum temperature, humidity, percent cloudiness, and wind speed.\n",
    "\n",
    "Add the following code to a new cell and run the cell."
   ]
  },
  {
   "cell_type": "code",
   "execution_count": 16,
   "id": "7ac1ab79",
   "metadata": {},
   "outputs": [
    {
     "name": "stdout",
     "output_type": "stream",
     "text": [
      "42.3584 -71.0598 13.95 77 11 5.32\n"
     ]
    }
   ],
   "source": [
    "lat = boston_data[\"coord\"][\"lat\"]\n",
    "lng = boston_data[\"coord\"][\"lon\"]\n",
    "max_temp = boston_data[\"main\"][\"temp_max\"]\n",
    "humidity = boston_data[\"main\"][\"humidity\"]\n",
    "clouds = boston_data[\"clouds\"][\"all\"]\n",
    "wind = boston_data[\"wind\"][\"speed\"]\n",
    "print(lat, lng, max_temp, humidity, clouds, wind)"
   ]
  },
  {
   "cell_type": "markdown",
   "id": "3f887cd9",
   "metadata": {},
   "source": [
    "## Convert the Date Timestamp"
   ]
  },
  {
   "cell_type": "markdown",
   "id": "b64440c0",
   "metadata": {},
   "source": [
    "*If we want to convert the timestamp to the International Organization for Standardization (ISO) format, or YYYY-MM-DD-HH-MM-SS, we need to use the Python datetime module.\n",
    "\n",
    "Let's convert the date from the Boston weather data in the JSON format to the ISO format."
   ]
  },
  {
   "cell_type": "code",
   "execution_count": 17,
   "id": "fc79b68b",
   "metadata": {},
   "outputs": [
    {
     "data": {
      "text/plain": [
       "datetime.datetime(2022, 1, 31, 5, 25, 46)"
      ]
     },
     "execution_count": 17,
     "metadata": {},
     "output_type": "execute_result"
    }
   ],
   "source": [
    "# Import the datetime module from the datetime library.\n",
    "from datetime import datetime\n",
    "# Get the date from the JSON file.\n",
    "date = boston_data[\"dt\"]\n",
    "# Convert the UTC date to a date format with year, month, day, hours, minutes, and seconds.\n",
    "datetime.utcfromtimestamp(date)"
   ]
  },
  {
   "cell_type": "markdown",
   "id": "4a1e21b9",
   "metadata": {},
   "source": [
    "We can convert this datetime format to 2019-10-21 17:24:35 using the Python string format method strftime() and adding how we want the string to look inside the parentheses"
   ]
  },
  {
   "cell_type": "code",
   "execution_count": 18,
   "id": "4a5f92f0",
   "metadata": {},
   "outputs": [
    {
     "data": {
      "text/plain": [
       "'2022-01-31 05:25:46'"
      ]
     },
     "execution_count": 18,
     "metadata": {},
     "output_type": "execute_result"
    }
   ],
   "source": [
    "datetime.utcfromtimestamp(date).strftime('%Y-%m-%d %H:%M:%S')"
   ]
  },
  {
   "cell_type": "markdown",
   "id": "3a7fe935",
   "metadata": {},
   "source": [
    "# 6.2.6 Get the City Weather Data"
   ]
  },
  {
   "cell_type": "markdown",
   "id": "441e85df",
   "metadata": {},
   "source": [
    "## Import Dependencies, and Initialize an Empty List and Counters"
   ]
  },
  {
   "cell_type": "markdown",
   "id": "1fb4b31a",
   "metadata": {},
   "source": [
    "* At the top of our code block, we are going to declare an empty list, city_data = []; add a print statement that references the beginning of the logging; and create counters for the record numbers, 1–50; and the set counter.\n",
    "\n",
    "We will now work in our WeatherPy.ipynb file. Before continuing, make sure the following tasks are completed:\n",
    "\n",
    "* Import your Requests Library and the weather_api_key.\n",
    "* Build the basic URL for the OpenWeatherMap with your weather_api_key added to the URL.\n",
    "* Also, import the time library, as well as the datetime module using the following code:"
   ]
  },
  {
   "cell_type": "code",
   "execution_count": 19,
   "id": "f50c6b21",
   "metadata": {},
   "outputs": [],
   "source": [
    "# Import the time library and the datetime module from the datetime library \n",
    "import time\n",
    "from datetime import datetime"
   ]
  },
  {
   "cell_type": "markdown",
   "id": "6594e8a1",
   "metadata": {},
   "source": [
    "Next, add the following code to a new cell, but don't run the cell. Instead, continue to add on to this code block.\n"
   ]
  },
  {
   "cell_type": "code",
   "execution_count": 20,
   "id": "602a8ca6",
   "metadata": {},
   "outputs": [
    {
     "name": "stdout",
     "output_type": "stream",
     "text": [
      "Beginning Data Retrieval     \n",
      "-----------------------------\n",
      "Processing Record 1 of Set 1 | severo-kurilsk\n",
      "Processing Record 2 of Set 1 | bluff\n",
      "Processing Record 3 of Set 1 | yomou\n",
      "Processing Record 4 of Set 1 | padang\n",
      "Processing Record 5 of Set 1 | mwene-ditu\n",
      "Processing Record 6 of Set 1 | camocim\n",
      "Processing Record 7 of Set 1 | sao felix do xingu\n",
      "Processing Record 8 of Set 1 | meadow lake\n",
      "Processing Record 9 of Set 1 | bambous virieux\n",
      "Processing Record 10 of Set 1 | oussouye\n",
      "Processing Record 11 of Set 1 | cherskiy\n",
      "Processing Record 12 of Set 1 | port alfred\n",
      "Processing Record 13 of Set 1 | siocon\n",
      "Processing Record 14 of Set 1 | saint-georges\n",
      "Processing Record 15 of Set 1 | thanh hoa\n",
      "Processing Record 16 of Set 1 | punta arenas\n",
      "Processing Record 17 of Set 1 | kapaa\n",
      "Processing Record 18 of Set 1 | cidreira\n",
      "Processing Record 19 of Set 1 | mokhsogollokh\n",
      "Processing Record 20 of Set 1 | rikitea\n",
      "Processing Record 21 of Set 1 | thinadhoo\n",
      "Processing Record 22 of Set 1 | saint george\n",
      "Processing Record 23 of Set 1 | kitimat\n",
      "Processing Record 24 of Set 1 | barentsburg\n",
      "City not found. Skipping...\n",
      "Processing Record 25 of Set 1 | ponta do sol\n",
      "Processing Record 26 of Set 1 | namibe\n",
      "Processing Record 27 of Set 1 | kapoeta\n",
      "Processing Record 28 of Set 1 | east london\n",
      "Processing Record 29 of Set 1 | aban\n",
      "Processing Record 30 of Set 1 | mocambique\n",
      "City not found. Skipping...\n",
      "Processing Record 31 of Set 1 | busselton\n",
      "Processing Record 32 of Set 1 | fare\n",
      "Processing Record 33 of Set 1 | new norfolk\n",
      "Processing Record 34 of Set 1 | arraial do cabo\n",
      "Processing Record 35 of Set 1 | katsuura\n",
      "Processing Record 36 of Set 1 | rawson\n",
      "Processing Record 37 of Set 1 | honiara\n",
      "Processing Record 38 of Set 1 | mananjary\n",
      "Processing Record 39 of Set 1 | dikson\n",
      "Processing Record 40 of Set 1 | aksarka\n",
      "Processing Record 41 of Set 1 | ushuaia\n",
      "Processing Record 42 of Set 1 | carnarvon\n",
      "Processing Record 43 of Set 1 | bogorodskoye\n",
      "Processing Record 44 of Set 1 | fort nelson\n",
      "Processing Record 45 of Set 1 | upernavik\n",
      "Processing Record 46 of Set 1 | iqaluit\n",
      "Processing Record 47 of Set 1 | ixtapa\n",
      "Processing Record 48 of Set 1 | albany\n",
      "Processing Record 49 of Set 1 | thompson\n",
      "Processing Record 50 of Set 1 | cape town\n",
      "Processing Record 1 of Set 2 | chokurdakh\n",
      "Processing Record 2 of Set 2 | hobart\n",
      "Processing Record 3 of Set 2 | sao joao da barra\n",
      "Processing Record 4 of Set 2 | porbandar\n",
      "Processing Record 5 of Set 2 | heubach\n",
      "Processing Record 6 of Set 2 | nishihara\n",
      "Processing Record 7 of Set 2 | bredasdorp\n",
      "Processing Record 8 of Set 2 | dawson creek\n",
      "Processing Record 9 of Set 2 | illoqqortoormiut\n",
      "City not found. Skipping...\n",
      "Processing Record 10 of Set 2 | ituni\n",
      "City not found. Skipping...\n",
      "Processing Record 11 of Set 2 | neryungri\n",
      "Processing Record 12 of Set 2 | charlottesville\n",
      "Processing Record 13 of Set 2 | vostok\n",
      "Processing Record 14 of Set 2 | narsaq\n",
      "Processing Record 15 of Set 2 | mount gambier\n",
      "Processing Record 16 of Set 2 | mitsamiouli\n",
      "Processing Record 17 of Set 2 | kodiak\n",
      "Processing Record 18 of Set 2 | ribeira grande\n",
      "Processing Record 19 of Set 2 | kencong\n",
      "Processing Record 20 of Set 2 | provideniya\n",
      "Processing Record 21 of Set 2 | dunedin\n",
      "Processing Record 22 of Set 2 | yellowknife\n",
      "Processing Record 23 of Set 2 | samusu\n",
      "City not found. Skipping...\n",
      "Processing Record 24 of Set 2 | salinas\n",
      "Processing Record 25 of Set 2 | darovskoy\n",
      "Processing Record 26 of Set 2 | castro\n",
      "Processing Record 27 of Set 2 | khonuu\n",
      "City not found. Skipping...\n",
      "Processing Record 28 of Set 2 | hilo\n",
      "Processing Record 29 of Set 2 | mataura\n",
      "Processing Record 30 of Set 2 | burica\n",
      "City not found. Skipping...\n",
      "Processing Record 31 of Set 2 | ballina\n",
      "Processing Record 32 of Set 2 | bethel\n",
      "Processing Record 33 of Set 2 | cheuskiny\n",
      "City not found. Skipping...\n",
      "Processing Record 34 of Set 2 | torbay\n",
      "Processing Record 35 of Set 2 | masindi\n",
      "Processing Record 36 of Set 2 | launceston\n",
      "Processing Record 37 of Set 2 | puro\n",
      "Processing Record 38 of Set 2 | sitka\n",
      "Processing Record 39 of Set 2 | butaritari\n",
      "Processing Record 40 of Set 2 | nouadhibou\n",
      "Processing Record 41 of Set 2 | tasiilaq\n",
      "Processing Record 42 of Set 2 | verkhnyaya inta\n",
      "Processing Record 43 of Set 2 | tabiauea\n",
      "City not found. Skipping...\n",
      "Processing Record 44 of Set 2 | shelburne\n",
      "Processing Record 45 of Set 2 | champerico\n",
      "Processing Record 46 of Set 2 | norrtalje\n",
      "Processing Record 47 of Set 2 | labranzagrande\n",
      "Processing Record 48 of Set 2 | karratha\n",
      "Processing Record 49 of Set 2 | cooma\n",
      "Processing Record 50 of Set 2 | palekh\n",
      "Processing Record 1 of Set 3 | jamestown\n",
      "Processing Record 2 of Set 3 | waipawa\n",
      "Processing Record 3 of Set 3 | batouri\n",
      "Processing Record 4 of Set 3 | nikolskoye\n",
      "Processing Record 5 of Set 3 | hermanus\n",
      "Processing Record 6 of Set 3 | hithadhoo\n",
      "Processing Record 7 of Set 3 | aykhal\n",
      "Processing Record 8 of Set 3 | grand centre\n",
      "City not found. Skipping...\n",
      "Processing Record 9 of Set 3 | tuktoyaktuk\n",
      "Processing Record 10 of Set 3 | morant bay\n",
      "Processing Record 11 of Set 3 | gladstone\n",
      "Processing Record 12 of Set 3 | laives\n",
      "Processing Record 13 of Set 3 | port pirie\n",
      "Processing Record 14 of Set 3 | vaini\n",
      "Processing Record 15 of Set 3 | nhulunbuy\n",
      "Processing Record 16 of Set 3 | nanortalik\n",
      "Processing Record 17 of Set 3 | qaanaaq\n",
      "Processing Record 18 of Set 3 | kamenskoye\n",
      "City not found. Skipping...\n",
      "Processing Record 19 of Set 3 | hauterive\n",
      "Processing Record 20 of Set 3 | huarmey\n",
      "Processing Record 21 of Set 3 | solsvik\n",
      "City not found. Skipping...\n",
      "Processing Record 22 of Set 3 | smolenka\n",
      "Processing Record 23 of Set 3 | alibag\n",
      "Processing Record 24 of Set 3 | barrow\n",
      "Processing Record 25 of Set 3 | grand river south east\n",
      "City not found. Skipping...\n",
      "Processing Record 26 of Set 3 | vaitupu\n",
      "City not found. Skipping...\n",
      "Processing Record 27 of Set 3 | blue springs\n",
      "Processing Record 28 of Set 3 | ostrovnoy\n",
      "Processing Record 29 of Set 3 | samarai\n",
      "Processing Record 30 of Set 3 | barawe\n",
      "City not found. Skipping...\n",
      "Processing Record 31 of Set 3 | faanui\n",
      "Processing Record 32 of Set 3 | taolanaro\n",
      "City not found. Skipping...\n",
      "Processing Record 33 of Set 3 | kaitangata\n",
      "Processing Record 34 of Set 3 | praya\n",
      "Processing Record 35 of Set 3 | yarkovo\n",
      "Processing Record 36 of Set 3 | matamoros\n",
      "Processing Record 37 of Set 3 | kalmunai\n",
      "Processing Record 38 of Set 3 | norman wells\n",
      "Processing Record 39 of Set 3 | rojhan\n",
      "Processing Record 40 of Set 3 | alofi\n",
      "Processing Record 41 of Set 3 | mahebourg\n",
      "Processing Record 42 of Set 3 | saint-pierre\n",
      "Processing Record 43 of Set 3 | alto baudo\n",
      "City not found. Skipping...\n",
      "Processing Record 44 of Set 3 | russell\n",
      "Processing Record 45 of Set 3 | necochea\n",
      "Processing Record 46 of Set 3 | puerto ayora\n",
      "Processing Record 47 of Set 3 | wasilla\n",
      "Processing Record 48 of Set 3 | bengkulu\n",
      "Processing Record 49 of Set 3 | kutum\n",
      "Processing Record 50 of Set 3 | eldorado\n",
      "Processing Record 1 of Set 4 | teguldet\n",
      "Processing Record 2 of Set 4 | sentyabrskiy\n",
      "City not found. Skipping...\n",
      "Processing Record 3 of Set 4 | kudahuvadhoo\n",
      "Processing Record 4 of Set 4 | alepe\n",
      "Processing Record 5 of Set 4 | fredericksburg\n",
      "Processing Record 6 of Set 4 | williston\n",
      "Processing Record 7 of Set 4 | victoria\n",
      "Processing Record 8 of Set 4 | tucurui\n",
      "Processing Record 9 of Set 4 | bolungarvik\n",
      "City not found. Skipping...\n",
      "Processing Record 10 of Set 4 | cabo san lucas\n",
      "Processing Record 11 of Set 4 | bassar\n",
      "Processing Record 12 of Set 4 | hays\n",
      "Processing Record 13 of Set 4 | narrabri\n",
      "Processing Record 14 of Set 4 | bubaque\n",
      "Processing Record 15 of Set 4 | ahipara\n",
      "Processing Record 16 of Set 4 | harper\n",
      "Processing Record 17 of Set 4 | barra do garcas\n",
      "Processing Record 18 of Set 4 | pevek\n",
      "Processing Record 19 of Set 4 | green river\n",
      "Processing Record 20 of Set 4 | goderich\n",
      "Processing Record 21 of Set 4 | bima\n",
      "Processing Record 22 of Set 4 | lakes entrance\n",
      "Processing Record 23 of Set 4 | nabire\n",
      "Processing Record 24 of Set 4 | kavieng\n",
      "Processing Record 25 of Set 4 | tarauaca\n",
      "Processing Record 26 of Set 4 | tahe\n",
      "Processing Record 27 of Set 4 | belushya guba\n",
      "City not found. Skipping...\n",
      "Processing Record 28 of Set 4 | ust-nera\n",
      "Processing Record 29 of Set 4 | gemena\n",
      "Processing Record 30 of Set 4 | vilhena\n",
      "Processing Record 31 of Set 4 | lasa\n",
      "Processing Record 32 of Set 4 | saskylakh\n",
      "Processing Record 33 of Set 4 | tumannyy\n",
      "City not found. Skipping...\n",
      "Processing Record 34 of Set 4 | chuy\n"
     ]
    },
    {
     "name": "stdout",
     "output_type": "stream",
     "text": [
      "Processing Record 35 of Set 4 | puerto escondido\n",
      "Processing Record 36 of Set 4 | klaksvik\n",
      "Processing Record 37 of Set 4 | egvekinot\n",
      "Processing Record 38 of Set 4 | belyy yar\n",
      "Processing Record 39 of Set 4 | san vicente\n",
      "Processing Record 40 of Set 4 | coquimbo\n",
      "Processing Record 41 of Set 4 | pacific grove\n",
      "Processing Record 42 of Set 4 | khatanga\n",
      "Processing Record 43 of Set 4 | kishtwar\n",
      "Processing Record 44 of Set 4 | tiksi\n",
      "Processing Record 45 of Set 4 | nome\n",
      "Processing Record 46 of Set 4 | marcona\n",
      "City not found. Skipping...\n",
      "Processing Record 47 of Set 4 | westport\n",
      "Processing Record 48 of Set 4 | georgetown\n",
      "Processing Record 49 of Set 4 | bandarbeyla\n",
      "Processing Record 50 of Set 4 | gafanha da encarnacao\n",
      "Processing Record 1 of Set 5 | beringovskiy\n",
      "Processing Record 2 of Set 5 | moranbah\n",
      "Processing Record 3 of Set 5 | ahuimanu\n",
      "Processing Record 4 of Set 5 | tuytepa\n",
      "Processing Record 5 of Set 5 | port hedland\n",
      "Processing Record 6 of Set 5 | atuona\n",
      "Processing Record 7 of Set 5 | saint-philippe\n",
      "Processing Record 8 of Set 5 | yar-sale\n",
      "Processing Record 9 of Set 5 | play cu\n",
      "City not found. Skipping...\n",
      "Processing Record 10 of Set 5 | wahiawa\n",
      "Processing Record 11 of Set 5 | san patricio\n",
      "Processing Record 12 of Set 5 | svirstroy\n",
      "Processing Record 13 of Set 5 | portsmouth\n",
      "Processing Record 14 of Set 5 | komsomolskiy\n",
      "Processing Record 15 of Set 5 | bathsheba\n",
      "Processing Record 16 of Set 5 | tunduru\n",
      "City not found. Skipping...\n",
      "Processing Record 17 of Set 5 | esperance\n",
      "Processing Record 18 of Set 5 | inongo\n",
      "Processing Record 19 of Set 5 | sakakah\n",
      "Processing Record 20 of Set 5 | clyde river\n",
      "Processing Record 21 of Set 5 | pathalgaon\n",
      "Processing Record 22 of Set 5 | homer\n",
      "Processing Record 23 of Set 5 | deer lake\n",
      "Processing Record 24 of Set 5 | geraldton\n",
      "Processing Record 25 of Set 5 | tura\n",
      "Processing Record 26 of Set 5 | hinton\n",
      "Processing Record 27 of Set 5 | verkhoshizhemye\n",
      "Processing Record 28 of Set 5 | tecpan\n",
      "Processing Record 29 of Set 5 | paamiut\n",
      "Processing Record 30 of Set 5 | la ronge\n",
      "Processing Record 31 of Set 5 | atambua\n",
      "Processing Record 32 of Set 5 | shrewsbury\n",
      "Processing Record 33 of Set 5 | longyearbyen\n",
      "Processing Record 34 of Set 5 | cumana\n",
      "Processing Record 35 of Set 5 | olafsvik\n",
      "Processing Record 36 of Set 5 | vila velha\n",
      "Processing Record 37 of Set 5 | haines junction\n",
      "Processing Record 38 of Set 5 | quatre cocos\n",
      "Processing Record 39 of Set 5 | colac\n",
      "Processing Record 40 of Set 5 | lorient\n",
      "Processing Record 41 of Set 5 | gurupa\n",
      "Processing Record 42 of Set 5 | bardiyah\n",
      "Processing Record 43 of Set 5 | amapa\n",
      "Processing Record 44 of Set 5 | daosa\n",
      "City not found. Skipping...\n",
      "Processing Record 45 of Set 5 | cabra\n",
      "Processing Record 46 of Set 5 | avarua\n",
      "Processing Record 47 of Set 5 | lima\n",
      "Processing Record 48 of Set 5 | ilulissat\n",
      "Processing Record 49 of Set 5 | marsabit\n",
      "Processing Record 50 of Set 5 | sampit\n",
      "Processing Record 1 of Set 6 | mekhe\n",
      "Processing Record 2 of Set 6 | prince rupert\n",
      "Processing Record 3 of Set 6 | bonavista\n",
      "Processing Record 4 of Set 6 | eureka\n",
      "Processing Record 5 of Set 6 | saleaula\n",
      "City not found. Skipping...\n",
      "Processing Record 6 of Set 6 | sandy bay\n",
      "Processing Record 7 of Set 6 | svetlaya\n",
      "Processing Record 8 of Set 6 | tuatapere\n",
      "Processing Record 9 of Set 6 | cairns\n",
      "Processing Record 10 of Set 6 | plettenberg bay\n",
      "Processing Record 11 of Set 6 | port elizabeth\n",
      "Processing Record 12 of Set 6 | coolum beach\n",
      "Processing Record 13 of Set 6 | broome\n",
      "Processing Record 14 of Set 6 | leningradskiy\n",
      "Processing Record 15 of Set 6 | west wendover\n",
      "Processing Record 16 of Set 6 | ozd\n",
      "Processing Record 17 of Set 6 | tessalit\n",
      "Processing Record 18 of Set 6 | flinders\n",
      "Processing Record 19 of Set 6 | cockburn town\n",
      "Processing Record 20 of Set 6 | gorno-chuyskiy\n",
      "City not found. Skipping...\n",
      "Processing Record 21 of Set 6 | fairbanks\n",
      "Processing Record 22 of Set 6 | vernon\n",
      "Processing Record 23 of Set 6 | port hardy\n",
      "Processing Record 24 of Set 6 | gerash\n",
      "Processing Record 25 of Set 6 | cayenne\n",
      "Processing Record 26 of Set 6 | manono\n",
      "Processing Record 27 of Set 6 | genhe\n",
      "Processing Record 28 of Set 6 | bafq\n",
      "Processing Record 29 of Set 6 | teya\n",
      "Processing Record 30 of Set 6 | bibbiena\n",
      "Processing Record 31 of Set 6 | mar del plata\n",
      "Processing Record 32 of Set 6 | tashla\n",
      "Processing Record 33 of Set 6 | alim\n",
      "Processing Record 34 of Set 6 | san andres\n",
      "Processing Record 35 of Set 6 | kaeo\n",
      "Processing Record 36 of Set 6 | kazalinsk\n",
      "City not found. Skipping...\n",
      "Processing Record 37 of Set 6 | makakilo city\n",
      "Processing Record 38 of Set 6 | sorvag\n",
      "City not found. Skipping...\n",
      "Processing Record 39 of Set 6 | kavaratti\n",
      "Processing Record 40 of Set 6 | antofagasta\n",
      "Processing Record 41 of Set 6 | portland\n",
      "Processing Record 42 of Set 6 | beckley\n",
      "Processing Record 43 of Set 6 | tabory\n",
      "Processing Record 44 of Set 6 | nuevo progreso\n",
      "Processing Record 45 of Set 6 | jining\n",
      "Processing Record 46 of Set 6 | betare oya\n",
      "Processing Record 47 of Set 6 | gamba\n",
      "Processing Record 48 of Set 6 | touros\n",
      "Processing Record 49 of Set 6 | bacuit\n",
      "City not found. Skipping...\n",
      "Processing Record 50 of Set 6 | lida\n",
      "Processing Record 1 of Set 7 | jinchang\n",
      "Processing Record 2 of Set 7 | guerrero negro\n",
      "Processing Record 3 of Set 7 | pochutla\n",
      "Processing Record 4 of Set 7 | scarborough\n",
      "Processing Record 5 of Set 7 | zhangye\n",
      "Processing Record 6 of Set 7 | pisco\n",
      "Processing Record 7 of Set 7 | gobabis\n",
      "Processing Record 8 of Set 7 | zaragoza\n",
      "Processing Record 9 of Set 7 | christchurch\n",
      "Processing Record 10 of Set 7 | attawapiskat\n",
      "City not found. Skipping...\n",
      "Processing Record 11 of Set 7 | palembang\n",
      "Processing Record 12 of Set 7 | oga\n",
      "Processing Record 13 of Set 7 | boende\n",
      "Processing Record 14 of Set 7 | ust-kuyga\n",
      "Processing Record 15 of Set 7 | pangkalanbuun\n",
      "Processing Record 16 of Set 7 | stornoway\n",
      "Processing Record 17 of Set 7 | poykovskiy\n",
      "Processing Record 18 of Set 7 | lorengau\n",
      "Processing Record 19 of Set 7 | amderma\n",
      "City not found. Skipping...\n",
      "Processing Record 20 of Set 7 | srandakan\n",
      "Processing Record 21 of Set 7 | kinablangan\n",
      "Processing Record 22 of Set 7 | inirida\n",
      "Processing Record 23 of Set 7 | pacifica\n",
      "Processing Record 24 of Set 7 | louisbourg\n",
      "City not found. Skipping...\n",
      "Processing Record 25 of Set 7 | basco\n",
      "Processing Record 26 of Set 7 | phangnga\n",
      "Processing Record 27 of Set 7 | lata\n",
      "Processing Record 28 of Set 7 | vestmanna\n",
      "Processing Record 29 of Set 7 | zhangjiakou\n",
      "Processing Record 30 of Set 7 | masunga\n",
      "Processing Record 31 of Set 7 | vardo\n",
      "Processing Record 32 of Set 7 | uige\n",
      "Processing Record 33 of Set 7 | antalaha\n",
      "Processing Record 34 of Set 7 | tsihombe\n",
      "City not found. Skipping...\n",
      "Processing Record 35 of Set 7 | atagay\n",
      "Processing Record 36 of Set 7 | tautira\n",
      "Processing Record 37 of Set 7 | tawang\n",
      "Processing Record 38 of Set 7 | zhumadian\n",
      "Processing Record 39 of Set 7 | ubatuba\n",
      "Processing Record 40 of Set 7 | vao\n",
      "Processing Record 41 of Set 7 | airai\n",
      "Processing Record 42 of Set 7 | vanimo\n",
      "Processing Record 43 of Set 7 | mineral wells\n",
      "Processing Record 44 of Set 7 | juneau\n",
      "Processing Record 45 of Set 7 | caravelas\n",
      "Processing Record 46 of Set 7 | zabol\n",
      "Processing Record 47 of Set 7 | atbasar\n",
      "Processing Record 48 of Set 7 | san cristobal\n",
      "Processing Record 49 of Set 7 | aklavik\n",
      "Processing Record 50 of Set 7 | guaira\n",
      "Processing Record 1 of Set 8 | pemba\n",
      "Processing Record 2 of Set 8 | corinth\n",
      "Processing Record 3 of Set 8 | ojinaga\n",
      "Processing Record 4 of Set 8 | maceio\n",
      "Processing Record 5 of Set 8 | adrar\n",
      "Processing Record 6 of Set 8 | orocue\n",
      "Processing Record 7 of Set 8 | impfondo\n",
      "Processing Record 8 of Set 8 | oranjemund\n",
      "Processing Record 9 of Set 8 | kamloops\n",
      "Processing Record 10 of Set 8 | goba\n",
      "Processing Record 11 of Set 8 | ceres\n",
      "Processing Record 12 of Set 8 | hofn\n",
      "Processing Record 13 of Set 8 | pochinok\n",
      "Processing Record 14 of Set 8 | northam\n",
      "Processing Record 15 of Set 8 | port lincoln\n",
      "Processing Record 16 of Set 8 | lucapa\n",
      "Processing Record 17 of Set 8 | mogadishu\n",
      "Processing Record 18 of Set 8 | mumford\n",
      "Processing Record 19 of Set 8 | ulety\n",
      "Processing Record 20 of Set 8 | kinango\n",
      "Processing Record 21 of Set 8 | constitucion\n",
      "Processing Record 22 of Set 8 | cururupu\n",
      "Processing Record 23 of Set 8 | boulsa\n",
      "Processing Record 24 of Set 8 | saint anthony\n",
      "Processing Record 25 of Set 8 | ketou\n",
      "Processing Record 26 of Set 8 | khasan\n"
     ]
    },
    {
     "name": "stdout",
     "output_type": "stream",
     "text": [
      "Processing Record 27 of Set 8 | penzance\n",
      "Processing Record 28 of Set 8 | ust-ilimsk\n",
      "Processing Record 29 of Set 8 | grand gaube\n",
      "Processing Record 30 of Set 8 | livingstone\n",
      "Processing Record 31 of Set 8 | bintulu\n",
      "Processing Record 32 of Set 8 | bosaso\n",
      "Processing Record 33 of Set 8 | karamea\n",
      "City not found. Skipping...\n",
      "Processing Record 34 of Set 8 | fontem\n",
      "Processing Record 35 of Set 8 | kars\n",
      "Processing Record 36 of Set 8 | koubia\n",
      "Processing Record 37 of Set 8 | manama\n",
      "Processing Record 38 of Set 8 | nizhneyansk\n",
      "City not found. Skipping...\n",
      "Processing Record 39 of Set 8 | pavino\n",
      "Processing Record 40 of Set 8 | labe\n",
      "Processing Record 41 of Set 8 | lagoa\n",
      "Processing Record 42 of Set 8 | bontang\n",
      "Processing Record 43 of Set 8 | bobonong\n",
      "City not found. Skipping...\n",
      "Processing Record 44 of Set 8 | baykit\n",
      "Processing Record 45 of Set 8 | kyrylivka\n",
      "Processing Record 46 of Set 8 | margate\n",
      "Processing Record 47 of Set 8 | fortuna\n",
      "Processing Record 48 of Set 8 | port moresby\n",
      "Processing Record 49 of Set 8 | seymchan\n",
      "Processing Record 50 of Set 8 | sistranda\n",
      "Processing Record 1 of Set 9 | kieta\n",
      "Processing Record 2 of Set 9 | qaqortoq\n",
      "Processing Record 3 of Set 9 | kruisfontein\n",
      "Processing Record 4 of Set 9 | bressanone\n",
      "Processing Record 5 of Set 9 | westerland\n",
      "Processing Record 6 of Set 9 | scottsboro\n",
      "Processing Record 7 of Set 9 | yala\n",
      "Processing Record 8 of Set 9 | mys shmidta\n",
      "City not found. Skipping...\n",
      "Processing Record 9 of Set 9 | tchamba\n",
      "Processing Record 10 of Set 9 | acarau\n",
      "Processing Record 11 of Set 9 | bodmin\n",
      "Processing Record 12 of Set 9 | hihifo\n",
      "City not found. Skipping...\n",
      "Processing Record 13 of Set 9 | hasaki\n",
      "Processing Record 14 of Set 9 | kattivakkam\n",
      "Processing Record 15 of Set 9 | rocha\n",
      "Processing Record 16 of Set 9 | urcos\n",
      "Processing Record 17 of Set 9 | bad lauterberg\n",
      "Processing Record 18 of Set 9 | muli\n",
      "Processing Record 19 of Set 9 | shenzhen\n",
      "Processing Record 20 of Set 9 | lompoc\n",
      "Processing Record 21 of Set 9 | keflavik\n",
      "Processing Record 22 of Set 9 | okmulgee\n",
      "Processing Record 23 of Set 9 | pitimbu\n",
      "Processing Record 24 of Set 9 | manyana\n",
      "Processing Record 25 of Set 9 | trairi\n",
      "Processing Record 26 of Set 9 | agva\n",
      "City not found. Skipping...\n",
      "Processing Record 27 of Set 9 | tchollire\n",
      "Processing Record 28 of Set 9 | wewak\n",
      "Processing Record 29 of Set 9 | tuggurt\n",
      "City not found. Skipping...\n",
      "Processing Record 30 of Set 9 | kovur\n",
      "Processing Record 31 of Set 9 | bandundu\n",
      "Processing Record 32 of Set 9 | saint-augustin\n",
      "Processing Record 33 of Set 9 | vila franca do campo\n",
      "Processing Record 34 of Set 9 | ancud\n",
      "Processing Record 35 of Set 9 | grahamstown\n",
      "Processing Record 36 of Set 9 | tarragona\n",
      "Processing Record 37 of Set 9 | bac lieu\n",
      "Processing Record 38 of Set 9 | paita\n",
      "Processing Record 39 of Set 9 | silvi\n",
      "Processing Record 40 of Set 9 | texarkana\n",
      "Processing Record 41 of Set 9 | kaka\n",
      "Processing Record 42 of Set 9 | tilichiki\n",
      "Processing Record 43 of Set 9 | reforma\n",
      "Processing Record 44 of Set 9 | yining\n",
      "Processing Record 45 of Set 9 | naryan-mar\n",
      "Processing Record 46 of Set 9 | dembi dolo\n",
      "Processing Record 47 of Set 9 | lumberton\n",
      "Processing Record 48 of Set 9 | pridonskoy\n",
      "Processing Record 49 of Set 9 | san rafael\n",
      "Processing Record 50 of Set 9 | kankaanpaa\n",
      "Processing Record 1 of Set 10 | lososina\n",
      "Processing Record 2 of Set 10 | rabo de peixe\n",
      "Processing Record 3 of Set 10 | clarence town\n",
      "Processing Record 4 of Set 10 | kholodnyy\n",
      "Processing Record 5 of Set 10 | oneonta\n",
      "Processing Record 6 of Set 10 | laguna\n",
      "Processing Record 7 of Set 10 | falam\n",
      "Processing Record 8 of Set 10 | araouane\n",
      "Processing Record 9 of Set 10 | wattegama\n",
      "Processing Record 10 of Set 10 | troitsko-pechorsk\n",
      "Processing Record 11 of Set 10 | souillac\n",
      "Processing Record 12 of Set 10 | kapurthala\n",
      "Processing Record 13 of Set 10 | les cayes\n",
      "Processing Record 14 of Set 10 | portobelo\n",
      "Processing Record 15 of Set 10 | ngukurr\n",
      "City not found. Skipping...\n",
      "Processing Record 16 of Set 10 | victoria point\n",
      "Processing Record 17 of Set 10 | yankton\n",
      "Processing Record 18 of Set 10 | chapais\n",
      "Processing Record 19 of Set 10 | tonbridge\n",
      "Processing Record 20 of Set 10 | skelleftea\n",
      "Processing Record 21 of Set 10 | buala\n",
      "Processing Record 22 of Set 10 | backi petrovac\n",
      "Processing Record 23 of Set 10 | cam ranh\n",
      "Processing Record 24 of Set 10 | ust-kamchatsk\n",
      "City not found. Skipping...\n",
      "Processing Record 25 of Set 10 | kurchum\n",
      "Processing Record 26 of Set 10 | kasra\n",
      "City not found. Skipping...\n",
      "Processing Record 27 of Set 10 | mutsamudu\n",
      "City not found. Skipping...\n",
      "Processing Record 28 of Set 10 | njombe\n",
      "Processing Record 29 of Set 10 | biak\n",
      "Processing Record 30 of Set 10 | albufeira\n",
      "Processing Record 31 of Set 10 | sabha\n",
      "Processing Record 32 of Set 10 | kahului\n",
      "Processing Record 33 of Set 10 | saint-joseph\n",
      "Processing Record 34 of Set 10 | berlevag\n",
      "Processing Record 35 of Set 10 | tomsk\n",
      "Processing Record 36 of Set 10 | salalah\n",
      "Processing Record 37 of Set 10 | port macquarie\n",
      "Processing Record 38 of Set 10 | sao geraldo do araguaia\n",
      "Processing Record 39 of Set 10 | burns lake\n",
      "Processing Record 40 of Set 10 | bukene\n",
      "Processing Record 41 of Set 10 | itoman\n",
      "Processing Record 42 of Set 10 | moose factory\n",
      "Processing Record 43 of Set 10 | quelimane\n",
      "Processing Record 44 of Set 10 | lebu\n",
      "Processing Record 45 of Set 10 | ilinsko-podomskoye\n",
      "City not found. Skipping...\n",
      "Processing Record 46 of Set 10 | dedza\n",
      "Processing Record 47 of Set 10 | bud\n",
      "Processing Record 48 of Set 10 | ketchikan\n",
      "Processing Record 49 of Set 10 | mimongo\n",
      "Processing Record 50 of Set 10 | hamilton\n",
      "Processing Record 1 of Set 11 | sarkand\n",
      "Processing Record 2 of Set 11 | nizhniy tsasuchey\n",
      "Processing Record 3 of Set 11 | umzimvubu\n",
      "City not found. Skipping...\n",
      "Processing Record 4 of Set 11 | eufaula\n",
      "Processing Record 5 of Set 11 | luderitz\n",
      "Processing Record 6 of Set 11 | bara\n",
      "Processing Record 7 of Set 11 | vangaindrano\n",
      "Processing Record 8 of Set 11 | marshall\n",
      "Processing Record 9 of Set 11 | awbari\n",
      "Processing Record 10 of Set 11 | huilong\n",
      "Processing Record 11 of Set 11 | camacha\n",
      "Processing Record 12 of Set 11 | sawakin\n",
      "Processing Record 13 of Set 11 | saldanha\n",
      "Processing Record 14 of Set 11 | marrakesh\n",
      "Processing Record 15 of Set 11 | te anau\n",
      "Processing Record 16 of Set 11 | nizhniy kuranakh\n",
      "Processing Record 17 of Set 11 | amahai\n",
      "Processing Record 18 of Set 11 | murgab\n",
      "Processing Record 19 of Set 11 | reriutaba\n",
      "Processing Record 20 of Set 11 | prescot\n",
      "Processing Record 21 of Set 11 | amravati\n",
      "Processing Record 22 of Set 11 | tallahassee\n",
      "Processing Record 23 of Set 11 | sao filipe\n",
      "Processing Record 24 of Set 11 | sibolga\n",
      "Processing Record 25 of Set 11 | luuk datan\n",
      "Processing Record 26 of Set 11 | turayf\n",
      "Processing Record 27 of Set 11 | rawannawi\n",
      "City not found. Skipping...\n",
      "Processing Record 28 of Set 11 | buraydah\n",
      "Processing Record 29 of Set 11 | mwinilunga\n",
      "Processing Record 30 of Set 11 | pandan\n",
      "Processing Record 31 of Set 11 | asau\n",
      "Processing Record 32 of Set 11 | la victoria\n",
      "Processing Record 33 of Set 11 | methoni\n",
      "Processing Record 34 of Set 11 | acapulco\n",
      "Processing Record 35 of Set 11 | esik\n",
      "Processing Record 36 of Set 11 | igrim\n",
      "Processing Record 37 of Set 11 | kasongo-lunda\n",
      "Processing Record 38 of Set 11 | faya\n",
      "Processing Record 39 of Set 11 | talnakh\n",
      "Processing Record 40 of Set 11 | kysyl-syr\n",
      "Processing Record 41 of Set 11 | naze\n",
      "Processing Record 42 of Set 11 | leshukonskoye\n",
      "Processing Record 43 of Set 11 | muros\n",
      "Processing Record 44 of Set 11 | katha\n",
      "City not found. Skipping...\n",
      "Processing Record 45 of Set 11 | moissac\n",
      "Processing Record 46 of Set 11 | swift current\n",
      "Processing Record 47 of Set 11 | tome-acu\n",
      "City not found. Skipping...\n",
      "Processing Record 48 of Set 11 | gushikawa\n",
      "Processing Record 49 of Set 11 | los llanos de aridane\n",
      "Processing Record 50 of Set 11 | zeya\n",
      "Processing Record 1 of Set 12 | lokosovo\n",
      "Processing Record 2 of Set 12 | wagar\n",
      "Processing Record 3 of Set 12 | mumbwa\n",
      "Processing Record 4 of Set 12 | namtsy\n",
      "Processing Record 5 of Set 12 | ladnun\n",
      "Processing Record 6 of Set 12 | yabrud\n",
      "Processing Record 7 of Set 12 | mizan teferi\n",
      "Processing Record 8 of Set 12 | dandeli\n",
      "Processing Record 9 of Set 12 | ucluelet\n",
      "Processing Record 10 of Set 12 | praia\n",
      "Processing Record 11 of Set 12 | caucaia\n",
      "Processing Record 12 of Set 12 | soyo\n",
      "Processing Record 13 of Set 12 | porto novo\n"
     ]
    },
    {
     "name": "stdout",
     "output_type": "stream",
     "text": [
      "Processing Record 14 of Set 12 | harrisonville\n",
      "Processing Record 15 of Set 12 | belomorsk\n",
      "Processing Record 16 of Set 12 | rungata\n",
      "City not found. Skipping...\n",
      "Processing Record 17 of Set 12 | boa vista\n",
      "Processing Record 18 of Set 12 | hami\n",
      "Processing Record 19 of Set 12 | horn lake\n",
      "Processing Record 20 of Set 12 | aquiraz\n",
      "Processing Record 21 of Set 12 | taltal\n",
      "Processing Record 22 of Set 12 | semey\n",
      "Processing Record 23 of Set 12 | inderborskiy\n",
      "City not found. Skipping...\n",
      "Processing Record 24 of Set 12 | burnie\n",
      "Processing Record 25 of Set 12 | verkhnyaya toyma\n",
      "Processing Record 26 of Set 12 | mingoyo\n",
      "Processing Record 27 of Set 12 | sao gabriel\n",
      "Processing Record 28 of Set 12 | palmer\n",
      "Processing Record 29 of Set 12 | college\n",
      "Processing Record 30 of Set 12 | yongzhou\n",
      "Processing Record 31 of Set 12 | deep river\n",
      "Processing Record 32 of Set 12 | karaul\n",
      "City not found. Skipping...\n",
      "Processing Record 33 of Set 12 | ha giang\n",
      "Processing Record 34 of Set 12 | ambon\n",
      "Processing Record 35 of Set 12 | severodvinsk\n",
      "Processing Record 36 of Set 12 | debre birhan\n",
      "Processing Record 37 of Set 12 | sandwick\n",
      "Processing Record 38 of Set 12 | koson\n",
      "Processing Record 39 of Set 12 | monte alegre\n",
      "Processing Record 40 of Set 12 | moron\n",
      "Processing Record 41 of Set 12 | phuket\n",
      "Processing Record 42 of Set 12 | kaili\n",
      "Processing Record 43 of Set 12 | stokmarknes\n",
      "Processing Record 44 of Set 12 | ayni\n",
      "Processing Record 45 of Set 12 | dalbandin\n",
      "Processing Record 46 of Set 12 | cintalapa\n",
      "Processing Record 47 of Set 12 | suntar\n",
      "Processing Record 48 of Set 12 | laibin\n",
      "Processing Record 49 of Set 12 | morshansk\n",
      "Processing Record 50 of Set 12 | nizhniy baskunchak\n",
      "Processing Record 1 of Set 13 | vreed en hoop\n",
      "City not found. Skipping...\n",
      "Processing Record 2 of Set 13 | teahupoo\n",
      "Processing Record 3 of Set 13 | sinnamary\n",
      "Processing Record 4 of Set 13 | chitral\n",
      "Processing Record 5 of Set 13 | whitehorse\n",
      "Processing Record 6 of Set 13 | chateaubelair\n",
      "Processing Record 7 of Set 13 | mnogovershinnyy\n",
      "Processing Record 8 of Set 13 | abu dhabi\n",
      "Processing Record 9 of Set 13 | langenau\n",
      "Processing Record 10 of Set 13 | hobyo\n",
      "Processing Record 11 of Set 13 | bindura\n",
      "Processing Record 12 of Set 13 | mongoumba\n",
      "Processing Record 13 of Set 13 | itarema\n",
      "Processing Record 14 of Set 13 | chabahar\n",
      "Processing Record 15 of Set 13 | lakatoro\n",
      "Processing Record 16 of Set 13 | vieste\n",
      "Processing Record 17 of Set 13 | talah\n",
      "City not found. Skipping...\n",
      "Processing Record 18 of Set 13 | grindavik\n",
      "Processing Record 19 of Set 13 | jutai\n",
      "Processing Record 20 of Set 13 | inta\n",
      "Processing Record 21 of Set 13 | lazaro cardenas\n",
      "Processing Record 22 of Set 13 | camopi\n",
      "Processing Record 23 of Set 13 | valdivia\n",
      "Processing Record 24 of Set 13 | guarapari\n",
      "Processing Record 25 of Set 13 | ust-kut\n",
      "Processing Record 26 of Set 13 | atar\n",
      "Processing Record 27 of Set 13 | tarabuco\n",
      "Processing Record 28 of Set 13 | nyrob\n",
      "Processing Record 29 of Set 13 | port augusta\n",
      "Processing Record 30 of Set 13 | inhambane\n",
      "Processing Record 31 of Set 13 | dalvik\n",
      "-----------------------------\n",
      "Data Retrieval Complete      \n",
      "-----------------------------\n"
     ]
    }
   ],
   "source": [
    "# Create an empty list to hold the weather data.\n",
    "city_data = []\n",
    "# Print the beginning of the logging.\n",
    "print(\"Beginning Data Retrieval     \")\n",
    "print(\"-----------------------------\")\n",
    "\n",
    "# Create counters.\n",
    "record_count = 1\n",
    "set_count = 1\n",
    "\n",
    "# Loop through all the cities in the list.\n",
    "for i, city in enumerate(cities):\n",
    "\n",
    "    # Group cities in sets of 50 for logging purposes.\n",
    "    if (i % 50 == 0 and i >= 50):\n",
    "        set_count += 1\n",
    "        record_count = 1\n",
    "        time.sleep(60)\n",
    "\n",
    "    # Create endpoint URL with each city.\n",
    "    city_url = url + \"&q=\" + city.replace(\" \",\"+\")\n",
    "\n",
    "    # Log the URL, record, and set numbers and the city.\n",
    "    print(f\"Processing Record {record_count} of Set {set_count} | {city}\")\n",
    "    # Add 1 to the record count.\n",
    "    record_count += 1\n",
    "    \n",
    "# Run an API request for each of the cities.\n",
    "    try:\n",
    "        # Parse the JSON and retrieve data.\n",
    "        city_weather = requests.get(city_url).json()\n",
    "        # Parse out the needed data.\n",
    "        city_lat = city_weather[\"coord\"][\"lat\"]\n",
    "        city_lng = city_weather[\"coord\"][\"lon\"]\n",
    "        city_max_temp = city_weather[\"main\"][\"temp_max\"]\n",
    "        city_humidity = city_weather[\"main\"][\"humidity\"]\n",
    "        city_clouds = city_weather[\"clouds\"][\"all\"]\n",
    "        city_wind = city_weather[\"wind\"][\"speed\"]\n",
    "        city_country = city_weather[\"sys\"][\"country\"]\n",
    "        # Convert the date to ISO standard.\n",
    "        city_date = datetime.utcfromtimestamp(city_weather[\"dt\"]).strftime('%Y-%m-%d %H:%M:%S')\n",
    "        # Append the city information into city_data list.\n",
    "        city_data.append({\"City\": city.title(),\n",
    "                          \"Lat\": city_lat,\n",
    "                          \"Lng\": city_lng,\n",
    "                          \"Max Temp\": city_max_temp,\n",
    "                          \"Humidity\": city_humidity,\n",
    "                          \"Cloudiness\": city_clouds,\n",
    "                          \"Wind Speed\": city_wind,\n",
    "                          \"Country\": city_country,\n",
    "                          \"Date\": city_date})\n",
    "\n",
    "# If an error is experienced, skip the city.\n",
    "    except:\n",
    "        print(\"City not found. Skipping...\")\n",
    "        pass\n",
    "\n",
    "# Indicate that Data Loading is complete.\n",
    "print(\"-----------------------------\")\n",
    "print(\"Data Retrieval Complete      \")\n",
    "print(\"-----------------------------\")    "
   ]
  },
  {
   "cell_type": "code",
   "execution_count": 25,
   "id": "9d82a80c",
   "metadata": {},
   "outputs": [
    {
     "data": {
      "text/plain": [
       "576"
      ]
     },
     "execution_count": 25,
     "metadata": {},
     "output_type": "execute_result"
    }
   ],
   "source": [
    "len(city_data)"
   ]
  },
  {
   "cell_type": "markdown",
   "id": "17a0d326",
   "metadata": {},
   "source": [
    "# 6.2.7 Create a DataFrame of City Weather Data"
   ]
  },
  {
   "cell_type": "markdown",
   "id": "57b9644e",
   "metadata": {},
   "source": [
    "### Convert the array of dictionaries to a Pandas DataFrame"
   ]
  },
  {
   "cell_type": "code",
   "execution_count": 26,
   "id": "77e25e8b",
   "metadata": {},
   "outputs": [
    {
     "data": {
      "text/html": [
       "<div>\n",
       "<style scoped>\n",
       "    .dataframe tbody tr th:only-of-type {\n",
       "        vertical-align: middle;\n",
       "    }\n",
       "\n",
       "    .dataframe tbody tr th {\n",
       "        vertical-align: top;\n",
       "    }\n",
       "\n",
       "    .dataframe thead th {\n",
       "        text-align: right;\n",
       "    }\n",
       "</style>\n",
       "<table border=\"1\" class=\"dataframe\">\n",
       "  <thead>\n",
       "    <tr style=\"text-align: right;\">\n",
       "      <th></th>\n",
       "      <th>City</th>\n",
       "      <th>Lat</th>\n",
       "      <th>Lng</th>\n",
       "      <th>Max Temp</th>\n",
       "      <th>Humidity</th>\n",
       "      <th>Cloudiness</th>\n",
       "      <th>Wind Speed</th>\n",
       "      <th>Country</th>\n",
       "      <th>Date</th>\n",
       "    </tr>\n",
       "  </thead>\n",
       "  <tbody>\n",
       "    <tr>\n",
       "      <th>0</th>\n",
       "      <td>Severo-Kurilsk</td>\n",
       "      <td>50.6789</td>\n",
       "      <td>156.1250</td>\n",
       "      <td>29.23</td>\n",
       "      <td>82</td>\n",
       "      <td>98</td>\n",
       "      <td>11.16</td>\n",
       "      <td>RU</td>\n",
       "      <td>2022-01-31 05:26:34</td>\n",
       "    </tr>\n",
       "    <tr>\n",
       "      <th>1</th>\n",
       "      <td>Bluff</td>\n",
       "      <td>-46.6000</td>\n",
       "      <td>168.3333</td>\n",
       "      <td>63.14</td>\n",
       "      <td>84</td>\n",
       "      <td>96</td>\n",
       "      <td>3.38</td>\n",
       "      <td>NZ</td>\n",
       "      <td>2022-01-31 05:26:35</td>\n",
       "    </tr>\n",
       "    <tr>\n",
       "      <th>2</th>\n",
       "      <td>Yomou</td>\n",
       "      <td>7.5603</td>\n",
       "      <td>-9.2653</td>\n",
       "      <td>61.77</td>\n",
       "      <td>37</td>\n",
       "      <td>1</td>\n",
       "      <td>1.10</td>\n",
       "      <td>GN</td>\n",
       "      <td>2022-01-31 05:26:35</td>\n",
       "    </tr>\n",
       "    <tr>\n",
       "      <th>3</th>\n",
       "      <td>Padang</td>\n",
       "      <td>-0.9492</td>\n",
       "      <td>100.3543</td>\n",
       "      <td>86.05</td>\n",
       "      <td>63</td>\n",
       "      <td>82</td>\n",
       "      <td>4.81</td>\n",
       "      <td>ID</td>\n",
       "      <td>2022-01-31 05:26:36</td>\n",
       "    </tr>\n",
       "    <tr>\n",
       "      <th>4</th>\n",
       "      <td>Mwene-Ditu</td>\n",
       "      <td>-7.0000</td>\n",
       "      <td>23.4500</td>\n",
       "      <td>64.31</td>\n",
       "      <td>97</td>\n",
       "      <td>98</td>\n",
       "      <td>3.49</td>\n",
       "      <td>CD</td>\n",
       "      <td>2022-01-31 05:26:36</td>\n",
       "    </tr>\n",
       "    <tr>\n",
       "      <th>5</th>\n",
       "      <td>Camocim</td>\n",
       "      <td>-2.9022</td>\n",
       "      <td>-40.8411</td>\n",
       "      <td>75.76</td>\n",
       "      <td>90</td>\n",
       "      <td>99</td>\n",
       "      <td>7.96</td>\n",
       "      <td>BR</td>\n",
       "      <td>2022-01-31 05:26:37</td>\n",
       "    </tr>\n",
       "    <tr>\n",
       "      <th>6</th>\n",
       "      <td>Sao Felix Do Xingu</td>\n",
       "      <td>-6.6447</td>\n",
       "      <td>-51.9950</td>\n",
       "      <td>69.15</td>\n",
       "      <td>97</td>\n",
       "      <td>100</td>\n",
       "      <td>0.29</td>\n",
       "      <td>BR</td>\n",
       "      <td>2022-01-31 05:26:37</td>\n",
       "    </tr>\n",
       "    <tr>\n",
       "      <th>7</th>\n",
       "      <td>Meadow Lake</td>\n",
       "      <td>34.8014</td>\n",
       "      <td>-106.5436</td>\n",
       "      <td>38.41</td>\n",
       "      <td>53</td>\n",
       "      <td>70</td>\n",
       "      <td>2.10</td>\n",
       "      <td>US</td>\n",
       "      <td>2022-01-31 05:26:37</td>\n",
       "    </tr>\n",
       "    <tr>\n",
       "      <th>8</th>\n",
       "      <td>Bambous Virieux</td>\n",
       "      <td>-20.3428</td>\n",
       "      <td>57.7575</td>\n",
       "      <td>86.22</td>\n",
       "      <td>79</td>\n",
       "      <td>75</td>\n",
       "      <td>11.50</td>\n",
       "      <td>MU</td>\n",
       "      <td>2022-01-31 05:26:38</td>\n",
       "    </tr>\n",
       "    <tr>\n",
       "      <th>9</th>\n",
       "      <td>Oussouye</td>\n",
       "      <td>12.4850</td>\n",
       "      <td>-16.5469</td>\n",
       "      <td>70.77</td>\n",
       "      <td>53</td>\n",
       "      <td>51</td>\n",
       "      <td>7.92</td>\n",
       "      <td>SN</td>\n",
       "      <td>2022-01-31 05:26:39</td>\n",
       "    </tr>\n",
       "  </tbody>\n",
       "</table>\n",
       "</div>"
      ],
      "text/plain": [
       "                 City      Lat       Lng  Max Temp  Humidity  Cloudiness  \\\n",
       "0      Severo-Kurilsk  50.6789  156.1250     29.23        82          98   \n",
       "1               Bluff -46.6000  168.3333     63.14        84          96   \n",
       "2               Yomou   7.5603   -9.2653     61.77        37           1   \n",
       "3              Padang  -0.9492  100.3543     86.05        63          82   \n",
       "4          Mwene-Ditu  -7.0000   23.4500     64.31        97          98   \n",
       "5             Camocim  -2.9022  -40.8411     75.76        90          99   \n",
       "6  Sao Felix Do Xingu  -6.6447  -51.9950     69.15        97         100   \n",
       "7         Meadow Lake  34.8014 -106.5436     38.41        53          70   \n",
       "8     Bambous Virieux -20.3428   57.7575     86.22        79          75   \n",
       "9            Oussouye  12.4850  -16.5469     70.77        53          51   \n",
       "\n",
       "   Wind Speed Country                 Date  \n",
       "0       11.16      RU  2022-01-31 05:26:34  \n",
       "1        3.38      NZ  2022-01-31 05:26:35  \n",
       "2        1.10      GN  2022-01-31 05:26:35  \n",
       "3        4.81      ID  2022-01-31 05:26:36  \n",
       "4        3.49      CD  2022-01-31 05:26:36  \n",
       "5        7.96      BR  2022-01-31 05:26:37  \n",
       "6        0.29      BR  2022-01-31 05:26:37  \n",
       "7        2.10      US  2022-01-31 05:26:37  \n",
       "8       11.50      MU  2022-01-31 05:26:38  \n",
       "9        7.92      SN  2022-01-31 05:26:39  "
      ]
     },
     "execution_count": 26,
     "metadata": {},
     "output_type": "execute_result"
    }
   ],
   "source": [
    "# Convert the array of dictionaries to a Pandas DataFrame.\n",
    "city_data_df = pd.DataFrame(city_data)\n",
    "city_data_df.head(10)"
   ]
  },
  {
   "cell_type": "markdown",
   "id": "d1bde2c2",
   "metadata": {},
   "source": [
    "### Reorder columns in the DataFrame"
   ]
  },
  {
   "cell_type": "code",
   "execution_count": 31,
   "id": "74da6f7c",
   "metadata": {},
   "outputs": [
    {
     "data": {
      "text/html": [
       "<div>\n",
       "<style scoped>\n",
       "    .dataframe tbody tr th:only-of-type {\n",
       "        vertical-align: middle;\n",
       "    }\n",
       "\n",
       "    .dataframe tbody tr th {\n",
       "        vertical-align: top;\n",
       "    }\n",
       "\n",
       "    .dataframe thead th {\n",
       "        text-align: right;\n",
       "    }\n",
       "</style>\n",
       "<table border=\"1\" class=\"dataframe\">\n",
       "  <thead>\n",
       "    <tr style=\"text-align: right;\">\n",
       "      <th></th>\n",
       "      <th>City</th>\n",
       "      <th>Country</th>\n",
       "      <th>Date</th>\n",
       "      <th>Lat</th>\n",
       "      <th>Lng</th>\n",
       "      <th>Max Temp</th>\n",
       "      <th>Humidity</th>\n",
       "      <th>Cloudiness</th>\n",
       "      <th>Wind Speed</th>\n",
       "    </tr>\n",
       "  </thead>\n",
       "  <tbody>\n",
       "    <tr>\n",
       "      <th>0</th>\n",
       "      <td>Severo-Kurilsk</td>\n",
       "      <td>RU</td>\n",
       "      <td>2022-01-31 05:26:34</td>\n",
       "      <td>50.6789</td>\n",
       "      <td>156.1250</td>\n",
       "      <td>29.23</td>\n",
       "      <td>NaN</td>\n",
       "      <td>98</td>\n",
       "      <td>11.16</td>\n",
       "    </tr>\n",
       "    <tr>\n",
       "      <th>1</th>\n",
       "      <td>Bluff</td>\n",
       "      <td>NZ</td>\n",
       "      <td>2022-01-31 05:26:35</td>\n",
       "      <td>-46.6000</td>\n",
       "      <td>168.3333</td>\n",
       "      <td>63.14</td>\n",
       "      <td>NaN</td>\n",
       "      <td>96</td>\n",
       "      <td>3.38</td>\n",
       "    </tr>\n",
       "    <tr>\n",
       "      <th>2</th>\n",
       "      <td>Yomou</td>\n",
       "      <td>GN</td>\n",
       "      <td>2022-01-31 05:26:35</td>\n",
       "      <td>7.5603</td>\n",
       "      <td>-9.2653</td>\n",
       "      <td>61.77</td>\n",
       "      <td>NaN</td>\n",
       "      <td>1</td>\n",
       "      <td>1.10</td>\n",
       "    </tr>\n",
       "    <tr>\n",
       "      <th>3</th>\n",
       "      <td>Padang</td>\n",
       "      <td>ID</td>\n",
       "      <td>2022-01-31 05:26:36</td>\n",
       "      <td>-0.9492</td>\n",
       "      <td>100.3543</td>\n",
       "      <td>86.05</td>\n",
       "      <td>NaN</td>\n",
       "      <td>82</td>\n",
       "      <td>4.81</td>\n",
       "    </tr>\n",
       "    <tr>\n",
       "      <th>4</th>\n",
       "      <td>Mwene-Ditu</td>\n",
       "      <td>CD</td>\n",
       "      <td>2022-01-31 05:26:36</td>\n",
       "      <td>-7.0000</td>\n",
       "      <td>23.4500</td>\n",
       "      <td>64.31</td>\n",
       "      <td>NaN</td>\n",
       "      <td>98</td>\n",
       "      <td>3.49</td>\n",
       "    </tr>\n",
       "  </tbody>\n",
       "</table>\n",
       "</div>"
      ],
      "text/plain": [
       "             City Country                 Date      Lat       Lng  Max Temp  \\\n",
       "0  Severo-Kurilsk      RU  2022-01-31 05:26:34  50.6789  156.1250     29.23   \n",
       "1           Bluff      NZ  2022-01-31 05:26:35 -46.6000  168.3333     63.14   \n",
       "2           Yomou      GN  2022-01-31 05:26:35   7.5603   -9.2653     61.77   \n",
       "3          Padang      ID  2022-01-31 05:26:36  -0.9492  100.3543     86.05   \n",
       "4      Mwene-Ditu      CD  2022-01-31 05:26:36  -7.0000   23.4500     64.31   \n",
       "\n",
       "    Humidity  Cloudiness  Wind Speed  \n",
       "0        NaN          98       11.16  \n",
       "1        NaN          96        3.38  \n",
       "2        NaN           1        1.10  \n",
       "3        NaN          82        4.81  \n",
       "4        NaN          98        3.49  "
      ]
     },
     "execution_count": 31,
     "metadata": {},
     "output_type": "execute_result"
    }
   ],
   "source": [
    "city_data_df = city_data_df[[\"City\", \"Country\", \"Date\", \"Lat\", \"Lng\", \"Max Temp\",\" Humidity\", \"Cloudiness\",\n",
    "                            \"Wind Speed\"]]\n",
    "city_data_df.head()"
   ]
  },
  {
   "cell_type": "markdown",
   "id": "4f934eac",
   "metadata": {},
   "source": [
    "### Create an output file to save the DataFrame as a CSV in a new folder for that file"
   ]
  },
  {
   "cell_type": "code",
   "execution_count": 33,
   "id": "c32cc392",
   "metadata": {},
   "outputs": [],
   "source": [
    "# Create the output file (CSV).\n",
    "output_data_file = \"weather_data/cities.csv\"\n",
    "# Export the City_Data into a CSV.\n",
    "city_data_df.to_csv(output_data_file, index_label=\"City_ID\")"
   ]
  },
  {
   "cell_type": "code",
   "execution_count": null,
   "id": "8d46a3a2",
   "metadata": {},
   "outputs": [],
   "source": []
  }
 ],
 "metadata": {
  "kernelspec": {
   "display_name": "Python 3 (ipykernel)",
   "language": "python",
   "name": "python3"
  },
  "language_info": {
   "codemirror_mode": {
    "name": "ipython",
    "version": 3
   },
   "file_extension": ".py",
   "mimetype": "text/x-python",
   "name": "python",
   "nbconvert_exporter": "python",
   "pygments_lexer": "ipython3",
   "version": "3.9.7"
  }
 },
 "nbformat": 4,
 "nbformat_minor": 5
}
