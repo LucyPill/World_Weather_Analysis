{
 "cells": [
  {
   "cell_type": "markdown",
   "id": "6e9c0983",
   "metadata": {},
   "source": [
    "## Create Latitude and Longitude Combinations"
   ]
  },
  {
   "cell_type": "code",
   "execution_count": 1,
   "id": "18164111",
   "metadata": {},
   "outputs": [],
   "source": [
    "# Import the dependencies.\n",
    "import pandas as pd\n",
    "import matplotlib.pyplot as plt\n",
    "import numpy as np"
   ]
  },
  {
   "cell_type": "markdown",
   "id": "4a80b957",
   "metadata": {},
   "source": [
    "* In the next cell, we'll add the code that generates the latitudes and longitudes, but first, they need to be stored so that we can access them later. Since we are creating arrays of latitudes and longitudes, we'll declare each array as a variable.\n",
    "* In the next cell, add the following code that we used to generate the random latitudes.\n",
    "* We'll create a similar code snippet that will generate longitudes. To ensure enough latitudes and longitudes, we'll start with 1,500. In addition, we'll pack the latitudes (lats) and longitudes (lngs) as pairs by zipping them (lat_lngs) with the zip() function."
   ]
  },
  {
   "cell_type": "code",
   "execution_count": 3,
   "id": "b159bc24",
   "metadata": {},
   "outputs": [
    {
     "data": {
      "text/plain": [
       "<zip at 0x7fd12da35f40>"
      ]
     },
     "execution_count": 3,
     "metadata": {},
     "output_type": "execute_result"
    }
   ],
   "source": [
    "# Create a set of random latitude and longitude combinations.\n",
    "lats = np.random.uniform(low=-90.000, high=90.000, size=1500)\n",
    "lngs = np.random.uniform(low=-180.000, high=180.000, size=1500)\n",
    "lat_lngs = zip(lats, lngs)\n",
    "lat_lngs"
   ]
  },
  {
   "cell_type": "markdown",
   "id": "30c7c94d",
   "metadata": {},
   "source": [
    "The zip object packs each pair of lats and lngs having the same index in their respective array into a tuple. If there are 1,500 latitudes and longitudes, there will be 1,500 tuples of paired latitudes and longitudes, where each latitude and longitude in a tuple can be accessed by the index of 0 and 1, respectively."
   ]
  },
  {
   "cell_type": "markdown",
   "id": "adb92c96",
   "metadata": {},
   "source": [
    "## Let's unpack our lat_lngs zip object into a list. This way, we only need to create a set of random latitudes and longitudes once."
   ]
  },
  {
   "cell_type": "code",
   "execution_count": 4,
   "id": "4de8a4eb",
   "metadata": {},
   "outputs": [],
   "source": [
    "# Add the latitudes and longitudes to a list.\n",
    "coordinates = list(lat_lngs)"
   ]
  },
  {
   "cell_type": "markdown",
   "id": "c78c2124",
   "metadata": {},
   "source": [
    "# 6.1.5 Generate Random World Cities"
   ]
  },
  {
   "cell_type": "markdown",
   "id": "59723dae",
   "metadata": {},
   "source": [
    "* With our list of random latitudes and longitudes, we'll use the coordinates in our lat_lngs tuple to find the nearest city using Python's citipy module."
   ]
  },
  {
   "cell_type": "code",
   "execution_count": 6,
   "id": "6a2b5312",
   "metadata": {},
   "outputs": [
    {
     "name": "stdout",
     "output_type": "stream",
     "text": [
      "Collecting citipy\n",
      "  Downloading citipy-0.0.5.tar.gz (557 kB)\n",
      "\u001b[K     |████████████████████████████████| 557 kB 4.1 MB/s eta 0:00:01\n",
      "\u001b[?25hCollecting kdtree>=0.12\n",
      "  Downloading kdtree-0.16-py2.py3-none-any.whl (7.7 kB)\n",
      "Building wheels for collected packages: citipy\n",
      "  Building wheel for citipy (setup.py) ... \u001b[?25ldone\n",
      "\u001b[?25h  Created wheel for citipy: filename=citipy-0.0.5-py3-none-any.whl size=559700 sha256=9adb4014f7836aaa3864a3fc76e25ffedcb7609e169eef7a3090f343ff17e7a5\n",
      "  Stored in directory: /Users/lucypepe/Library/Caches/pip/wheels/d9/dd/68/8cc0be16282b0fcae5acb7280b47d31952f203c401923a8c1e\n",
      "Successfully built citipy\n",
      "Installing collected packages: kdtree, citipy\n",
      "Successfully installed citipy-0.0.5 kdtree-0.16\n"
     ]
    }
   ],
   "source": [
    "!pip install citipy"
   ]
  },
  {
   "cell_type": "code",
   "execution_count": 7,
   "id": "e3dc863b",
   "metadata": {},
   "outputs": [],
   "source": [
    "# Use the citipy module to determine city based on latitude and longitude.\n",
    "from citipy import citipy"
   ]
  },
  {
   "cell_type": "code",
   "execution_count": 9,
   "id": "f7f54c02",
   "metadata": {},
   "outputs": [
    {
     "data": {
      "text/plain": [
       "618"
      ]
     },
     "execution_count": 9,
     "metadata": {},
     "output_type": "execute_result"
    }
   ],
   "source": [
    "# Create a list for holding the cities.\n",
    "cities = []\n",
    "# Identify the nearest city for each latitude and longitude combination.\n",
    "for coordinate in coordinates:\n",
    "    city = citipy.nearest_city(coordinate[0], coordinate[1]).city_name\n",
    "\n",
    "    # If the city is unique, then we will add it to the cities list.\n",
    "    if city not in cities:\n",
    "        cities.append(city)\n",
    "# Print the city count to confirm sufficient count.\n",
    "len(cities)\n"
   ]
  },
  {
   "cell_type": "code",
   "execution_count": null,
   "id": "6a14b8c2",
   "metadata": {},
   "outputs": [],
   "source": []
  }
 ],
 "metadata": {
  "kernelspec": {
   "display_name": "Python 3 (ipykernel)",
   "language": "python",
   "name": "python3"
  },
  "language_info": {
   "codemirror_mode": {
    "name": "ipython",
    "version": 3
   },
   "file_extension": ".py",
   "mimetype": "text/x-python",
   "name": "python",
   "nbconvert_exporter": "python",
   "pygments_lexer": "ipython3",
   "version": "3.9.7"
  }
 },
 "nbformat": 4,
 "nbformat_minor": 5
}
