{
 "cells": [
  {
   "cell_type": "markdown",
   "id": "b9da62b2",
   "metadata": {},
   "source": [
    "## Create Latitude and Longitude Combinations"
   ]
  },
  {
   "cell_type": "code",
   "execution_count": 1,
   "id": "42376a08",
   "metadata": {},
   "outputs": [],
   "source": [
    "# Import the dependencies.\n",
    "import pandas as pd\n",
    "import matplotlib.pyplot as plt\n",
    "import numpy as np"
   ]
  },
  {
   "cell_type": "markdown",
   "id": "3704f063",
   "metadata": {},
   "source": [
    "* In the next cell, we'll add the code that generates the latitudes and longitudes, but first, they need to be stored so that we can access them later. Since we are creating arrays of latitudes and longitudes, we'll declare each array as a variable.\n",
    "* In the next cell, add the following code that we used to generate the random latitudes.\n",
    "* We'll create a similar code snippet that will generate longitudes. To ensure enough latitudes and longitudes, we'll start with 1,500. In addition, we'll pack the latitudes (lats) and longitudes (lngs) as pairs by zipping them (lat_lngs) with the zip() function."
   ]
  },
  {
   "cell_type": "code",
   "execution_count": 2,
   "id": "a037d7dd",
   "metadata": {},
   "outputs": [
    {
     "data": {
      "text/plain": [
       "<zip at 0x7f7d506974c0>"
      ]
     },
     "execution_count": 2,
     "metadata": {},
     "output_type": "execute_result"
    }
   ],
   "source": [
    "# Create a set of random latitude and longitude combinations.\n",
    "lats = np.random.uniform(low=-90.000, high=90.000, size=1500)\n",
    "lngs = np.random.uniform(low=-180.000, high=180.000, size=1500)\n",
    "lat_lngs = zip(lats, lngs)\n",
    "lat_lngs"
   ]
  },
  {
   "cell_type": "markdown",
   "id": "0b8aba78",
   "metadata": {},
   "source": [
    "The zip object packs each pair of lats and lngs having the same index in their respective array into a tuple. If there are 1,500 latitudes and longitudes, there will be 1,500 tuples of paired latitudes and longitudes, where each latitude and longitude in a tuple can be accessed by the index of 0 and 1, respectively."
   ]
  },
  {
   "cell_type": "markdown",
   "id": "157ce3dd",
   "metadata": {},
   "source": [
    "## Let's unpack our lat_lngs zip object into a list. This way, we only need to create a set of random latitudes and longitudes once."
   ]
  },
  {
   "cell_type": "code",
   "execution_count": 3,
   "id": "7e7cae90",
   "metadata": {},
   "outputs": [],
   "source": [
    "# Add the latitudes and longitudes to a list.\n",
    "coordinates = list(lat_lngs)"
   ]
  },
  {
   "cell_type": "markdown",
   "id": "268673b8",
   "metadata": {},
   "source": [
    "# 6.1.5 Generate Random World Cities"
   ]
  },
  {
   "cell_type": "markdown",
   "id": "245a9941",
   "metadata": {},
   "source": [
    "* With our list of random latitudes and longitudes, we'll use the coordinates in our lat_lngs tuple to find the nearest city using Python's citipy module."
   ]
  },
  {
   "cell_type": "code",
   "execution_count": 4,
   "id": "754a52ab",
   "metadata": {},
   "outputs": [
    {
     "name": "stdout",
     "output_type": "stream",
     "text": [
      "Requirement already satisfied: citipy in /Users/lucypepe/opt/anaconda3/lib/python3.9/site-packages (0.0.5)\r\n",
      "Requirement already satisfied: kdtree>=0.12 in /Users/lucypepe/opt/anaconda3/lib/python3.9/site-packages (from citipy) (0.16)\r\n"
     ]
    }
   ],
   "source": [
    "!pip install citipy"
   ]
  },
  {
   "cell_type": "code",
   "execution_count": 5,
   "id": "a4d65aa7",
   "metadata": {},
   "outputs": [],
   "source": [
    "# Use the citipy module to determine city based on latitude and longitude.\n",
    "from citipy import citipy"
   ]
  },
  {
   "cell_type": "code",
   "execution_count": 6,
   "id": "18b05ddb",
   "metadata": {},
   "outputs": [
    {
     "data": {
      "text/plain": [
       "621"
      ]
     },
     "execution_count": 6,
     "metadata": {},
     "output_type": "execute_result"
    }
   ],
   "source": [
    "# Create a list for holding the cities.\n",
    "cities = []\n",
    "# Identify the nearest city for each latitude and longitude combination.\n",
    "for coordinate in coordinates:\n",
    "    city = citipy.nearest_city(coordinate[0], coordinate[1]).city_name\n",
    "\n",
    "    # If the city is unique, then we will add it to the cities list.\n",
    "    if city not in cities:\n",
    "        cities.append(city)\n",
    "# Print the city count to confirm sufficient count.\n",
    "len(cities)\n"
   ]
  },
  {
   "cell_type": "markdown",
   "id": "30734a62",
   "metadata": {},
   "source": [
    "# 6.2.1 Understanding APIs"
   ]
  },
  {
   "cell_type": "markdown",
   "id": "dcdd7d39",
   "metadata": {},
   "source": [
    "# 6.2.2 Get Started with OpenWeatherMap API"
   ]
  },
  {
   "cell_type": "code",
   "execution_count": 7,
   "id": "80bf0ebe",
   "metadata": {},
   "outputs": [],
   "source": [
    "# Import the requests library.\n",
    "import requests\n",
    "\n",
    "# Import the API key.\n",
    "from config import weather_api_key"
   ]
  },
  {
   "cell_type": "code",
   "execution_count": 8,
   "id": "c33b9489",
   "metadata": {},
   "outputs": [],
   "source": [
    "# Starting URL for Weather Map API Call.\n",
    "url = \"http://api.openweathermap.org/data/2.5/weather?units=Imperial&APPID=\" + weather_api_key"
   ]
  },
  {
   "cell_type": "code",
   "execution_count": 9,
   "id": "6286405f",
   "metadata": {},
   "outputs": [
    {
     "name": "stdout",
     "output_type": "stream",
     "text": [
      "http://api.openweathermap.org/data/2.5/weather?units=Imperial&APPID=5b080f7f22dbf268c1c5ab4257892315&q=Boston\n"
     ]
    }
   ],
   "source": [
    "# Create an endpoint URL for a city.\n",
    "city_url = url + \"&q=\" + \"Boston\"\n",
    "print(city_url)"
   ]
  },
  {
   "cell_type": "markdown",
   "id": "abd35549",
   "metadata": {},
   "source": [
    "## The JavaScript Object Notation Format for API Data"
   ]
  },
  {
   "cell_type": "markdown",
   "id": "ef5310ca",
   "metadata": {},
   "source": [
    "* When we retrieve data from a website, we have to make a \"request,\" which returns data in a text format, not in a tab- or comma-separated file.\n",
    "* One format we can use to parse data is JavaScript Object Notation (JSON).\n",
    "* The JSON format is also referred to as an \"object\" or \"JSON object.\"\n",
    "* The data inside a JSON object opens and closes with curly braces, much like a Python dictionary.\n",
    "* Inside the JSON object is a collection of dictionaries and arrays."
   ]
  },
  {
   "cell_type": "markdown",
   "id": "c4e5b1ce",
   "metadata": {},
   "source": [
    "## The Python Requests Library\n"
   ]
  },
  {
   "cell_type": "markdown",
   "id": "4b9e376e",
   "metadata": {},
   "source": [
    "* To request JSON data over the internet, we use the Requests Library in Python.\n",
    "* The Anaconda installation comes with version 2.22 of the Requests Library."
   ]
  },
  {
   "cell_type": "code",
   "execution_count": 10,
   "id": "f1e7c88f",
   "metadata": {},
   "outputs": [
    {
     "data": {
      "text/plain": [
       "'2.26.0'"
      ]
     },
     "execution_count": 10,
     "metadata": {},
     "output_type": "execute_result"
    }
   ],
   "source": [
    "import requests\n",
    "requests.__version__"
   ]
  },
  {
   "cell_type": "markdown",
   "id": "49225686",
   "metadata": {},
   "source": [
    "# 6.2.5 Parse a Response from an API\n",
    "Before we collect weather data from more than 500 cities, we'll walk through how to get the weather data from Boston."
   ]
  },
  {
   "cell_type": "code",
   "execution_count": 11,
   "id": "7b331f62",
   "metadata": {},
   "outputs": [
    {
     "data": {
      "text/plain": [
       "{'coord': {'lon': -71.0598, 'lat': 42.3584},\n",
       " 'weather': [{'id': 801,\n",
       "   'main': 'Clouds',\n",
       "   'description': 'few clouds',\n",
       "   'icon': '02n'}],\n",
       " 'base': 'stations',\n",
       " 'main': {'temp': 6.94,\n",
       "  'feels_like': -2.61,\n",
       "  'temp_min': -0.36,\n",
       "  'temp_max': 14.95,\n",
       "  'pressure': 1022,\n",
       "  'humidity': 77},\n",
       " 'visibility': 10000,\n",
       " 'wind': {'speed': 5.19, 'deg': 271, 'gust': 11.43},\n",
       " 'clouds': {'all': 12},\n",
       " 'dt': 1643609070,\n",
       " 'sys': {'type': 2,\n",
       "  'id': 2039376,\n",
       "  'country': 'US',\n",
       "  'sunrise': 1643630333,\n",
       "  'sunset': 1643666182},\n",
       " 'timezone': -18000,\n",
       " 'id': 4930956,\n",
       " 'name': 'Boston',\n",
       " 'cod': 200}"
      ]
     },
     "execution_count": 11,
     "metadata": {},
     "output_type": "execute_result"
    }
   ],
   "source": [
    "# Create an endpoint URL for a city.\n",
    "city_url = url + \"&q=\" + \"Boston\"\n",
    "city_weather = requests.get(city_url)\n",
    "city_weather.json()"
   ]
  },
  {
   "cell_type": "markdown",
   "id": "9d32e6ba",
   "metadata": {},
   "source": [
    "### 1. In a new cell, let's assign a variable to the city_weather.json() data to the variable \"boston_data\" and run the cell."
   ]
  },
  {
   "cell_type": "code",
   "execution_count": 12,
   "id": "86b06b1e",
   "metadata": {},
   "outputs": [
    {
     "data": {
      "text/plain": [
       "{'coord': {'lon': -71.0598, 'lat': 42.3584},\n",
       " 'weather': [{'id': 801,\n",
       "   'main': 'Clouds',\n",
       "   'description': 'few clouds',\n",
       "   'icon': '02n'}],\n",
       " 'base': 'stations',\n",
       " 'main': {'temp': 6.94,\n",
       "  'feels_like': -2.61,\n",
       "  'temp_min': -0.36,\n",
       "  'temp_max': 14.95,\n",
       "  'pressure': 1022,\n",
       "  'humidity': 77},\n",
       " 'visibility': 10000,\n",
       " 'wind': {'speed': 5.19, 'deg': 271, 'gust': 11.43},\n",
       " 'clouds': {'all': 12},\n",
       " 'dt': 1643609070,\n",
       " 'sys': {'type': 2,\n",
       "  'id': 2039376,\n",
       "  'country': 'US',\n",
       "  'sunrise': 1643630333,\n",
       "  'sunset': 1643666182},\n",
       " 'timezone': -18000,\n",
       " 'id': 4930956,\n",
       " 'name': 'Boston',\n",
       " 'cod': 200}"
      ]
     },
     "execution_count": 12,
     "metadata": {},
     "output_type": "execute_result"
    }
   ],
   "source": [
    "# Get the JSON data.\n",
    "boston_data = city_weather.json()\n",
    "boston_data"
   ]
  },
  {
   "cell_type": "markdown",
   "id": "5e6cedef",
   "metadata": {},
   "source": [
    "## 2. Next, using the sys key to get the corresponding value, we type boston_data['sys'] in a new cell and run the cell. The output is another dictionary as shown in the following image."
   ]
  },
  {
   "cell_type": "code",
   "execution_count": 13,
   "id": "6f404bd5",
   "metadata": {},
   "outputs": [
    {
     "data": {
      "text/plain": [
       "{'type': 2,\n",
       " 'id': 2039376,\n",
       " 'country': 'US',\n",
       " 'sunrise': 1643630333,\n",
       " 'sunset': 1643666182}"
      ]
     },
     "execution_count": 13,
     "metadata": {},
     "output_type": "execute_result"
    }
   ],
   "source": [
    "boston_data[\"sys\"]"
   ]
  },
  {
   "cell_type": "markdown",
   "id": "bbe2a7cf",
   "metadata": {},
   "source": [
    "## 3. If we add the country key in brackets after the sys key, and run the cell again, ‘US’ will be returned in the output."
   ]
  },
  {
   "cell_type": "code",
   "execution_count": 14,
   "id": "4772e2cc",
   "metadata": {},
   "outputs": [
    {
     "data": {
      "text/plain": [
       "'US'"
      ]
     },
     "execution_count": 14,
     "metadata": {},
     "output_type": "execute_result"
    }
   ],
   "source": [
    "boston_data[\"sys\"][\"country\"]"
   ]
  },
  {
   "cell_type": "markdown",
   "id": "b636cb47",
   "metadata": {},
   "source": [
    "If we want to retrieve the date in the weather data, we would add the dt key to the boston_data variable like this: boston_data[\"dt\"]."
   ]
  },
  {
   "cell_type": "code",
   "execution_count": 15,
   "id": "3e7e33fe",
   "metadata": {},
   "outputs": [
    {
     "data": {
      "text/plain": [
       "1643609070"
      ]
     },
     "execution_count": 15,
     "metadata": {},
     "output_type": "execute_result"
    }
   ],
   "source": [
    "boston_data[\"dt\"]"
   ]
  },
  {
   "cell_type": "markdown",
   "id": "7ec3b9ec",
   "metadata": {},
   "source": [
    "* Using similar syntax to get the time of day, we can get the latitude, longitude, maximum temperature, humidity, percent cloudiness, and wind speed.\n",
    "\n",
    "Add the following code to a new cell and run the cell."
   ]
  },
  {
   "cell_type": "code",
   "execution_count": 16,
   "id": "82969743",
   "metadata": {},
   "outputs": [
    {
     "name": "stdout",
     "output_type": "stream",
     "text": [
      "42.3584 -71.0598 14.95 77 12 5.19\n"
     ]
    }
   ],
   "source": [
    "lat = boston_data[\"coord\"][\"lat\"]\n",
    "lng = boston_data[\"coord\"][\"lon\"]\n",
    "max_temp = boston_data[\"main\"][\"temp_max\"]\n",
    "humidity = boston_data[\"main\"][\"humidity\"]\n",
    "clouds = boston_data[\"clouds\"][\"all\"]\n",
    "wind = boston_data[\"wind\"][\"speed\"]\n",
    "print(lat, lng, max_temp, humidity, clouds, wind)"
   ]
  },
  {
   "cell_type": "markdown",
   "id": "efaa17f2",
   "metadata": {},
   "source": [
    "## Convert the Date Timestamp"
   ]
  },
  {
   "cell_type": "markdown",
   "id": "f7908d40",
   "metadata": {},
   "source": [
    "*If we want to convert the timestamp to the International Organization for Standardization (ISO) format, or YYYY-MM-DD-HH-MM-SS, we need to use the Python datetime module.\n",
    "\n",
    "Let's convert the date from the Boston weather data in the JSON format to the ISO format."
   ]
  },
  {
   "cell_type": "code",
   "execution_count": 17,
   "id": "4be2cfc5",
   "metadata": {},
   "outputs": [
    {
     "data": {
      "text/plain": [
       "datetime.datetime(2022, 1, 31, 6, 4, 30)"
      ]
     },
     "execution_count": 17,
     "metadata": {},
     "output_type": "execute_result"
    }
   ],
   "source": [
    "# Import the datetime module from the datetime library.\n",
    "from datetime import datetime\n",
    "# Get the date from the JSON file.\n",
    "date = boston_data[\"dt\"]\n",
    "# Convert the UTC date to a date format with year, month, day, hours, minutes, and seconds.\n",
    "datetime.utcfromtimestamp(date)"
   ]
  },
  {
   "cell_type": "markdown",
   "id": "fca73706",
   "metadata": {},
   "source": [
    "We can convert this datetime format to 2019-10-21 17:24:35 using the Python string format method strftime() and adding how we want the string to look inside the parentheses"
   ]
  },
  {
   "cell_type": "code",
   "execution_count": 18,
   "id": "565616f9",
   "metadata": {},
   "outputs": [
    {
     "data": {
      "text/plain": [
       "'2022-01-31 06:04:30'"
      ]
     },
     "execution_count": 18,
     "metadata": {},
     "output_type": "execute_result"
    }
   ],
   "source": [
    "datetime.utcfromtimestamp(date).strftime('%Y-%m-%d %H:%M:%S')"
   ]
  },
  {
   "cell_type": "markdown",
   "id": "6898078b",
   "metadata": {},
   "source": [
    "# 6.2.6 Get the City Weather Data"
   ]
  },
  {
   "cell_type": "markdown",
   "id": "0e5fb3be",
   "metadata": {},
   "source": [
    "## Import Dependencies, and Initialize an Empty List and Counters"
   ]
  },
  {
   "cell_type": "markdown",
   "id": "212363ba",
   "metadata": {},
   "source": [
    "* At the top of our code block, we are going to declare an empty list, city_data = []; add a print statement that references the beginning of the logging; and create counters for the record numbers, 1–50; and the set counter.\n",
    "\n",
    "We will now work in our WeatherPy.ipynb file. Before continuing, make sure the following tasks are completed:\n",
    "\n",
    "* Import your Requests Library and the weather_api_key.\n",
    "* Build the basic URL for the OpenWeatherMap with your weather_api_key added to the URL.\n",
    "* Also, import the time library, as well as the datetime module using the following code:"
   ]
  },
  {
   "cell_type": "code",
   "execution_count": 19,
   "id": "edefb6a0",
   "metadata": {},
   "outputs": [],
   "source": [
    "# Import the time library and the datetime module from the datetime library \n",
    "import time\n",
    "from datetime import datetime"
   ]
  },
  {
   "cell_type": "markdown",
   "id": "f8a018b8",
   "metadata": {},
   "source": [
    "Next, add the following code to a new cell, but don't run the cell. Instead, continue to add on to this code block.\n"
   ]
  },
  {
   "cell_type": "code",
   "execution_count": 20,
   "id": "0bba7ee8",
   "metadata": {},
   "outputs": [
    {
     "name": "stdout",
     "output_type": "stream",
     "text": [
      "Beginning Data Retrieval     \n",
      "-----------------------------\n",
      "Processing Record 1 of Set 1 | mar del plata\n",
      "Processing Record 2 of Set 1 | rikitea\n",
      "Processing Record 3 of Set 1 | palabuhanratu\n",
      "City not found. Skipping...\n",
      "Processing Record 4 of Set 1 | vardo\n",
      "Processing Record 5 of Set 1 | saint-philippe\n",
      "Processing Record 6 of Set 1 | udachnyy\n",
      "Processing Record 7 of Set 1 | hobart\n",
      "Processing Record 8 of Set 1 | bluff\n",
      "Processing Record 9 of Set 1 | mataura\n",
      "Processing Record 10 of Set 1 | mys shmidta\n",
      "City not found. Skipping...\n",
      "Processing Record 11 of Set 1 | makakilo city\n",
      "Processing Record 12 of Set 1 | kilindoni\n",
      "Processing Record 13 of Set 1 | busselton\n",
      "Processing Record 14 of Set 1 | egvekinot\n",
      "Processing Record 15 of Set 1 | shangqiu\n",
      "Processing Record 16 of Set 1 | georgiyevka\n",
      "Processing Record 17 of Set 1 | vao\n",
      "Processing Record 18 of Set 1 | port alfred\n",
      "Processing Record 19 of Set 1 | ushuaia\n",
      "Processing Record 20 of Set 1 | yellowknife\n",
      "Processing Record 21 of Set 1 | kastornoye\n",
      "Processing Record 22 of Set 1 | fort nelson\n",
      "Processing Record 23 of Set 1 | bayji\n",
      "Processing Record 24 of Set 1 | bengkulu\n",
      "Processing Record 25 of Set 1 | hermanus\n",
      "Processing Record 26 of Set 1 | sao filipe\n",
      "Processing Record 27 of Set 1 | potosi\n",
      "Processing Record 28 of Set 1 | taolanaro\n",
      "City not found. Skipping...\n",
      "Processing Record 29 of Set 1 | nikolskoye\n",
      "Processing Record 30 of Set 1 | longyearbyen\n",
      "Processing Record 31 of Set 1 | punta arenas\n",
      "Processing Record 32 of Set 1 | tura\n",
      "Processing Record 33 of Set 1 | salem\n",
      "Processing Record 34 of Set 1 | avera\n",
      "Processing Record 35 of Set 1 | dikson\n",
      "Processing Record 36 of Set 1 | comodoro rivadavia\n",
      "Processing Record 37 of Set 1 | bogo\n",
      "Processing Record 38 of Set 1 | vaini\n",
      "Processing Record 39 of Set 1 | sitka\n",
      "Processing Record 40 of Set 1 | sao felix do xingu\n",
      "Processing Record 41 of Set 1 | nuuk\n",
      "Processing Record 42 of Set 1 | qaanaaq\n",
      "Processing Record 43 of Set 1 | kamennogorsk\n",
      "Processing Record 44 of Set 1 | torbay\n",
      "Processing Record 45 of Set 1 | goryachegorsk\n",
      "Processing Record 46 of Set 1 | bonavista\n",
      "Processing Record 47 of Set 1 | jamestown\n",
      "Processing Record 48 of Set 1 | doha\n",
      "Processing Record 49 of Set 1 | atuona\n",
      "Processing Record 50 of Set 1 | cochrane\n",
      "Processing Record 1 of Set 2 | severo-kurilsk\n",
      "Processing Record 2 of Set 2 | illoqqortoormiut\n",
      "City not found. Skipping...\n",
      "Processing Record 3 of Set 2 | mahebourg\n",
      "Processing Record 4 of Set 2 | el copey\n",
      "Processing Record 5 of Set 2 | puerto ayora\n",
      "Processing Record 6 of Set 2 | barrow\n",
      "Processing Record 7 of Set 2 | ulladulla\n",
      "Processing Record 8 of Set 2 | yulara\n",
      "Processing Record 9 of Set 2 | lorengau\n",
      "Processing Record 10 of Set 2 | vyazemskiy\n",
      "Processing Record 11 of Set 2 | pangai\n",
      "Processing Record 12 of Set 2 | hambantota\n",
      "Processing Record 13 of Set 2 | hilo\n",
      "Processing Record 14 of Set 2 | prince rupert\n",
      "Processing Record 15 of Set 2 | shimoda\n",
      "Processing Record 16 of Set 2 | cape town\n",
      "Processing Record 17 of Set 2 | keti bandar\n",
      "Processing Record 18 of Set 2 | ambon\n",
      "Processing Record 19 of Set 2 | caravelas\n",
      "Processing Record 20 of Set 2 | skagastrond\n",
      "City not found. Skipping...\n",
      "Processing Record 21 of Set 2 | poum\n",
      "Processing Record 22 of Set 2 | lompoc\n",
      "Processing Record 23 of Set 2 | san quintin\n",
      "Processing Record 24 of Set 2 | castro\n",
      "Processing Record 25 of Set 2 | teeli\n",
      "Processing Record 26 of Set 2 | guerrero negro\n",
      "Processing Record 27 of Set 2 | porgera\n",
      "Processing Record 28 of Set 2 | nizhneyansk\n",
      "City not found. Skipping...\n",
      "Processing Record 29 of Set 2 | grindavik\n",
      "Processing Record 30 of Set 2 | ribeira grande\n",
      "Processing Record 31 of Set 2 | bambous virieux\n",
      "Processing Record 32 of Set 2 | champerico\n",
      "Processing Record 33 of Set 2 | namibe\n",
      "Processing Record 34 of Set 2 | ryotsu\n",
      "Processing Record 35 of Set 2 | jiuquan\n",
      "Processing Record 36 of Set 2 | sola\n",
      "Processing Record 37 of Set 2 | sayat\n",
      "Processing Record 38 of Set 2 | new norfolk\n",
      "Processing Record 39 of Set 2 | nara\n",
      "Processing Record 40 of Set 2 | pombia\n",
      "Processing Record 41 of Set 2 | ewa beach\n",
      "Processing Record 42 of Set 2 | tual\n",
      "Processing Record 43 of Set 2 | halalo\n",
      "City not found. Skipping...\n",
      "Processing Record 44 of Set 2 | amapa\n",
      "Processing Record 45 of Set 2 | brattleboro\n",
      "Processing Record 46 of Set 2 | saint-augustin\n",
      "Processing Record 47 of Set 2 | saskylakh\n",
      "Processing Record 48 of Set 2 | santa cruz\n",
      "Processing Record 49 of Set 2 | tubruq\n",
      "City not found. Skipping...\n",
      "Processing Record 50 of Set 2 | whitehorse\n",
      "Processing Record 1 of Set 3 | nanortalik\n",
      "Processing Record 2 of Set 3 | butaritari\n",
      "Processing Record 3 of Set 3 | alofi\n",
      "Processing Record 4 of Set 3 | arraial do cabo\n",
      "Processing Record 5 of Set 3 | lebu\n",
      "Processing Record 6 of Set 3 | dingle\n",
      "Processing Record 7 of Set 3 | coolum beach\n",
      "Processing Record 8 of Set 3 | kailua\n",
      "Processing Record 9 of Set 3 | salalah\n",
      "Processing Record 10 of Set 3 | luderitz\n",
      "Processing Record 11 of Set 3 | hervey bay\n",
      "Processing Record 12 of Set 3 | ojinaga\n",
      "Processing Record 13 of Set 3 | cherskiy\n",
      "Processing Record 14 of Set 3 | ahipara\n",
      "Processing Record 15 of Set 3 | tumannyy\n",
      "City not found. Skipping...\n",
      "Processing Record 16 of Set 3 | ternate\n",
      "Processing Record 17 of Set 3 | albany\n",
      "Processing Record 18 of Set 3 | port elizabeth\n",
      "Processing Record 19 of Set 3 | ayia galini\n",
      "Processing Record 20 of Set 3 | hami\n",
      "Processing Record 21 of Set 3 | severnyy\n",
      "Processing Record 22 of Set 3 | nuqui\n",
      "Processing Record 23 of Set 3 | tuktoyaktuk\n",
      "Processing Record 24 of Set 3 | peniche\n",
      "Processing Record 25 of Set 3 | vila franca do campo\n",
      "Processing Record 26 of Set 3 | pacasmayo\n",
      "Processing Record 27 of Set 3 | barentsburg\n",
      "City not found. Skipping...\n",
      "Processing Record 28 of Set 3 | mount gambier\n",
      "Processing Record 29 of Set 3 | codrington\n",
      "Processing Record 30 of Set 3 | tingrela\n",
      "City not found. Skipping...\n",
      "Processing Record 31 of Set 3 | faanui\n",
      "Processing Record 32 of Set 3 | kautokeino\n",
      "Processing Record 33 of Set 3 | port hardy\n",
      "Processing Record 34 of Set 3 | bay roberts\n",
      "Processing Record 35 of Set 3 | ancud\n",
      "Processing Record 36 of Set 3 | yar-sale\n",
      "Processing Record 37 of Set 3 | inirida\n",
      "Processing Record 38 of Set 3 | mahanoro\n",
      "Processing Record 39 of Set 3 | leningradskiy\n",
      "Processing Record 40 of Set 3 | plainview\n",
      "Processing Record 41 of Set 3 | matara\n",
      "Processing Record 42 of Set 3 | mutsamudu\n",
      "City not found. Skipping...\n",
      "Processing Record 43 of Set 3 | norman wells\n",
      "Processing Record 44 of Set 3 | vikhorevka\n",
      "Processing Record 45 of Set 3 | pisco\n",
      "Processing Record 46 of Set 3 | bethel\n",
      "Processing Record 47 of Set 3 | san cristobal\n",
      "Processing Record 48 of Set 3 | los llanos de aridane\n",
      "Processing Record 49 of Set 3 | komsomolskiy\n",
      "Processing Record 50 of Set 3 | mehamn\n",
      "Processing Record 1 of Set 4 | balabac\n",
      "Processing Record 2 of Set 4 | bredasdorp\n",
      "Processing Record 3 of Set 4 | mandal\n",
      "Processing Record 4 of Set 4 | bereda\n",
      "Processing Record 5 of Set 4 | riviere-au-renard\n",
      "Processing Record 6 of Set 4 | sao borja\n",
      "Processing Record 7 of Set 4 | kihei\n",
      "Processing Record 8 of Set 4 | hamilton\n",
      "Processing Record 9 of Set 4 | kalmunai\n",
      "Processing Record 10 of Set 4 | saint-pierre\n",
      "Processing Record 11 of Set 4 | kapaa\n",
      "Processing Record 12 of Set 4 | riyadh\n",
      "Processing Record 13 of Set 4 | sirawai\n",
      "Processing Record 14 of Set 4 | ponta do sol\n",
      "Processing Record 15 of Set 4 | hithadhoo\n",
      "Processing Record 16 of Set 4 | samusu\n",
      "City not found. Skipping...\n",
      "Processing Record 17 of Set 4 | iqaluit\n",
      "Processing Record 18 of Set 4 | chuy\n",
      "Processing Record 19 of Set 4 | kutum\n",
      "Processing Record 20 of Set 4 | karratha\n",
      "Processing Record 21 of Set 4 | kazalinsk\n",
      "City not found. Skipping...\n",
      "Processing Record 22 of Set 4 | srivardhan\n",
      "Processing Record 23 of Set 4 | kaitangata\n",
      "Processing Record 24 of Set 4 | selikhino\n",
      "Processing Record 25 of Set 4 | nam tha\n",
      "City not found. Skipping...\n",
      "Processing Record 26 of Set 4 | matagami\n",
      "Processing Record 27 of Set 4 | carnarvon\n",
      "Processing Record 28 of Set 4 | te anau\n",
      "Processing Record 29 of Set 4 | airai\n",
      "Processing Record 30 of Set 4 | bundaberg\n",
      "Processing Record 31 of Set 4 | channel-port aux basques\n",
      "Processing Record 32 of Set 4 | attawapiskat\n",
      "City not found. Skipping...\n",
      "Processing Record 33 of Set 4 | xichang\n",
      "Processing Record 34 of Set 4 | akdepe\n",
      "Processing Record 35 of Set 4 | avarua\n",
      "Processing Record 36 of Set 4 | mezen\n"
     ]
    },
    {
     "name": "stdout",
     "output_type": "stream",
     "text": [
      "Processing Record 37 of Set 4 | meadow lake\n",
      "Processing Record 38 of Set 4 | bubaque\n",
      "Processing Record 39 of Set 4 | kodiak\n",
      "Processing Record 40 of Set 4 | esperance\n",
      "Processing Record 41 of Set 4 | upernavik\n",
      "Processing Record 42 of Set 4 | tsihombe\n",
      "City not found. Skipping...\n",
      "Processing Record 43 of Set 4 | stranda\n",
      "Processing Record 44 of Set 4 | sarmanovo\n",
      "Processing Record 45 of Set 4 | san rafael\n",
      "Processing Record 46 of Set 4 | lazaro cardenas\n",
      "Processing Record 47 of Set 4 | klyuchi\n",
      "Processing Record 48 of Set 4 | bima\n",
      "Processing Record 49 of Set 4 | port lavaca\n",
      "Processing Record 50 of Set 4 | pacific grove\n",
      "Processing Record 1 of Set 5 | tiksi\n",
      "Processing Record 2 of Set 5 | mount isa\n",
      "Processing Record 3 of Set 5 | chiang klang\n",
      "Processing Record 4 of Set 5 | san vicente\n",
      "Processing Record 5 of Set 5 | buala\n",
      "Processing Record 6 of Set 5 | kahului\n",
      "Processing Record 7 of Set 5 | humberto de campos\n",
      "Processing Record 8 of Set 5 | georgetown\n",
      "Processing Record 9 of Set 5 | amderma\n",
      "City not found. Skipping...\n",
      "Processing Record 10 of Set 5 | amur\n",
      "Processing Record 11 of Set 5 | takob\n",
      "City not found. Skipping...\n",
      "Processing Record 12 of Set 5 | gravdal\n",
      "Processing Record 13 of Set 5 | thompson\n",
      "Processing Record 14 of Set 5 | cidreira\n",
      "Processing Record 15 of Set 5 | kendari\n",
      "Processing Record 16 of Set 5 | nybro\n",
      "Processing Record 17 of Set 5 | kavieng\n",
      "Processing Record 18 of Set 5 | cowie\n",
      "Processing Record 19 of Set 5 | fortuna\n",
      "Processing Record 20 of Set 5 | tasiilaq\n",
      "Processing Record 21 of Set 5 | kirakira\n",
      "Processing Record 22 of Set 5 | brodnica\n",
      "Processing Record 23 of Set 5 | east london\n",
      "Processing Record 24 of Set 5 | pochutla\n",
      "Processing Record 25 of Set 5 | valguarnera caropepe\n",
      "Processing Record 26 of Set 5 | verkhnyaya inta\n",
      "Processing Record 27 of Set 5 | rawson\n",
      "Processing Record 28 of Set 5 | lolua\n",
      "City not found. Skipping...\n",
      "Processing Record 29 of Set 5 | gushikawa\n",
      "Processing Record 30 of Set 5 | beloha\n",
      "Processing Record 31 of Set 5 | pevek\n",
      "Processing Record 32 of Set 5 | betsiamites\n",
      "Processing Record 33 of Set 5 | shahr-e babak\n",
      "Processing Record 34 of Set 5 | vestmannaeyjar\n",
      "Processing Record 35 of Set 5 | kununurra\n",
      "Processing Record 36 of Set 5 | maryville\n",
      "Processing Record 37 of Set 5 | le port\n",
      "Processing Record 38 of Set 5 | khatanga\n",
      "Processing Record 39 of Set 5 | dabat\n",
      "Processing Record 40 of Set 5 | pasighat\n",
      "Processing Record 41 of Set 5 | bambanglipuro\n",
      "Processing Record 42 of Set 5 | presidente medici\n",
      "Processing Record 43 of Set 5 | yeniseysk\n",
      "Processing Record 44 of Set 5 | gobabis\n",
      "Processing Record 45 of Set 5 | sedalia\n",
      "Processing Record 46 of Set 5 | dunedin\n",
      "Processing Record 47 of Set 5 | mildura\n",
      "Processing Record 48 of Set 5 | asayita\n",
      "City not found. Skipping...\n",
      "Processing Record 49 of Set 5 | smoljan\n",
      "Processing Record 50 of Set 5 | constitucion\n",
      "Processing Record 1 of Set 6 | sorvag\n",
      "City not found. Skipping...\n",
      "Processing Record 2 of Set 6 | touros\n",
      "Processing Record 3 of Set 6 | broken hill\n",
      "Processing Record 4 of Set 6 | celestun\n",
      "Processing Record 5 of Set 6 | carutapera\n",
      "Processing Record 6 of Set 6 | kaka\n",
      "Processing Record 7 of Set 6 | saint george\n",
      "Processing Record 8 of Set 6 | amarillo\n",
      "Processing Record 9 of Set 6 | tema\n",
      "Processing Record 10 of Set 6 | tapiramuta\n",
      "Processing Record 11 of Set 6 | oussouye\n",
      "Processing Record 12 of Set 6 | chokurdakh\n",
      "Processing Record 13 of Set 6 | assela\n",
      "City not found. Skipping...\n",
      "Processing Record 14 of Set 6 | chicama\n",
      "Processing Record 15 of Set 6 | boyolangu\n",
      "Processing Record 16 of Set 6 | juegang\n",
      "Processing Record 17 of Set 6 | malmo\n",
      "Processing Record 18 of Set 6 | aksarka\n",
      "Processing Record 19 of Set 6 | bulnes\n",
      "Processing Record 20 of Set 6 | kloulklubed\n",
      "Processing Record 21 of Set 6 | anadyr\n",
      "Processing Record 22 of Set 6 | mabay\n",
      "Processing Record 23 of Set 6 | kirensk\n",
      "Processing Record 24 of Set 6 | aleksinac\n",
      "Processing Record 25 of Set 6 | temerloh\n",
      "Processing Record 26 of Set 6 | igrim\n",
      "Processing Record 27 of Set 6 | miyako\n",
      "Processing Record 28 of Set 6 | sur\n",
      "Processing Record 29 of Set 6 | astipalaia\n",
      "City not found. Skipping...\n",
      "Processing Record 30 of Set 6 | tiarei\n",
      "Processing Record 31 of Set 6 | hawalli\n",
      "Processing Record 32 of Set 6 | sturgeon bay\n",
      "Processing Record 33 of Set 6 | sande\n",
      "Processing Record 34 of Set 6 | lichinga\n",
      "Processing Record 35 of Set 6 | tromso\n",
      "Processing Record 36 of Set 6 | talnakh\n",
      "Processing Record 37 of Set 6 | lima\n",
      "Processing Record 38 of Set 6 | kulmbach\n",
      "Processing Record 39 of Set 6 | lakes entrance\n",
      "Processing Record 40 of Set 6 | tiznit\n",
      "Processing Record 41 of Set 6 | axim\n",
      "Processing Record 42 of Set 6 | taseyevo\n",
      "Processing Record 43 of Set 6 | arona\n",
      "Processing Record 44 of Set 6 | oranjemund\n",
      "Processing Record 45 of Set 6 | ondangwa\n",
      "Processing Record 46 of Set 6 | candido mendes\n",
      "Processing Record 47 of Set 6 | mega\n",
      "Processing Record 48 of Set 6 | bahar\n",
      "Processing Record 49 of Set 6 | vallenar\n",
      "Processing Record 50 of Set 6 | matay\n",
      "Processing Record 1 of Set 7 | la ronge\n",
      "Processing Record 2 of Set 7 | clarence town\n",
      "Processing Record 3 of Set 7 | machilipatnam\n",
      "Processing Record 4 of Set 7 | rungata\n",
      "City not found. Skipping...\n",
      "Processing Record 5 of Set 7 | bondo\n",
      "Processing Record 6 of Set 7 | aripuana\n",
      "Processing Record 7 of Set 7 | provideniya\n",
      "Processing Record 8 of Set 7 | katherine\n",
      "Processing Record 9 of Set 7 | shieli\n",
      "Processing Record 10 of Set 7 | lata\n",
      "Processing Record 11 of Set 7 | chernyshevsk\n",
      "Processing Record 12 of Set 7 | maningrida\n",
      "Processing Record 13 of Set 7 | honningsvag\n",
      "Processing Record 14 of Set 7 | licheng\n",
      "Processing Record 15 of Set 7 | port augusta\n",
      "Processing Record 16 of Set 7 | burhar\n",
      "Processing Record 17 of Set 7 | harare\n",
      "Processing Record 18 of Set 7 | dharchula\n",
      "Processing Record 19 of Set 7 | kangaatsiaq\n",
      "Processing Record 20 of Set 7 | itarema\n",
      "Processing Record 21 of Set 7 | melbu\n",
      "Processing Record 22 of Set 7 | geraldton\n",
      "Processing Record 23 of Set 7 | dhidhdhoo\n",
      "Processing Record 24 of Set 7 | kavaratti\n",
      "Processing Record 25 of Set 7 | sivaki\n",
      "Processing Record 26 of Set 7 | louisbourg\n",
      "City not found. Skipping...\n",
      "Processing Record 27 of Set 7 | trinidad\n",
      "Processing Record 28 of Set 7 | udayagiri\n",
      "Processing Record 29 of Set 7 | broome\n",
      "Processing Record 30 of Set 7 | redcar\n",
      "Processing Record 31 of Set 7 | atar\n",
      "Processing Record 32 of Set 7 | hohhot\n",
      "Processing Record 33 of Set 7 | olga\n",
      "Processing Record 34 of Set 7 | kenai\n",
      "Processing Record 35 of Set 7 | esmeraldas\n",
      "Processing Record 36 of Set 7 | dongsheng\n",
      "Processing Record 37 of Set 7 | ndago\n",
      "Processing Record 38 of Set 7 | nikolayevka\n",
      "Processing Record 39 of Set 7 | ostrovnoy\n",
      "Processing Record 40 of Set 7 | nouakchott\n",
      "Processing Record 41 of Set 7 | puerto escondido\n",
      "Processing Record 42 of Set 7 | baraut\n",
      "Processing Record 43 of Set 7 | mulege\n",
      "Processing Record 44 of Set 7 | panalingaan\n",
      "Processing Record 45 of Set 7 | aklavik\n",
      "Processing Record 46 of Set 7 | muroto\n",
      "Processing Record 47 of Set 7 | meulaboh\n",
      "Processing Record 48 of Set 7 | ilulissat\n",
      "Processing Record 49 of Set 7 | flinders\n",
      "Processing Record 50 of Set 7 | baykit\n",
      "Processing Record 1 of Set 8 | thinadhoo\n",
      "Processing Record 2 of Set 8 | gannan\n",
      "Processing Record 3 of Set 8 | rawlins\n",
      "Processing Record 4 of Set 8 | yumen\n",
      "Processing Record 5 of Set 8 | veraval\n",
      "Processing Record 6 of Set 8 | maracacume\n",
      "Processing Record 7 of Set 8 | tautira\n",
      "Processing Record 8 of Set 8 | todos santos\n",
      "Processing Record 9 of Set 8 | cabo san lucas\n",
      "Processing Record 10 of Set 8 | karkaralinsk\n",
      "City not found. Skipping...\n",
      "Processing Record 11 of Set 8 | zalantun\n",
      "Processing Record 12 of Set 8 | opuwo\n",
      "Processing Record 13 of Set 8 | mitu\n",
      "Processing Record 14 of Set 8 | isangel\n",
      "Processing Record 15 of Set 8 | kudahuvadhoo\n",
      "Processing Record 16 of Set 8 | mandera\n",
      "Processing Record 17 of Set 8 | katangli\n",
      "Processing Record 18 of Set 8 | north platte\n",
      "Processing Record 19 of Set 8 | beringovskiy\n",
      "Processing Record 20 of Set 8 | beohari\n",
      "Processing Record 21 of Set 8 | victoria\n",
      "Processing Record 22 of Set 8 | mitsamiouli\n",
      "Processing Record 23 of Set 8 | husavik\n",
      "Processing Record 24 of Set 8 | akyab\n",
      "Processing Record 25 of Set 8 | dakar\n",
      "Processing Record 26 of Set 8 | salinopolis\n",
      "Processing Record 27 of Set 8 | alta floresta\n",
      "Processing Record 28 of Set 8 | paamiut\n",
      "Processing Record 29 of Set 8 | linxia\n"
     ]
    },
    {
     "name": "stdout",
     "output_type": "stream",
     "text": [
      "Processing Record 30 of Set 8 | naze\n",
      "Processing Record 31 of Set 8 | vaitupu\n",
      "City not found. Skipping...\n",
      "Processing Record 32 of Set 8 | jiexiu\n",
      "Processing Record 33 of Set 8 | marolambo\n",
      "Processing Record 34 of Set 8 | pijao\n",
      "Processing Record 35 of Set 8 | knysna\n",
      "Processing Record 36 of Set 8 | melo\n",
      "Processing Record 37 of Set 8 | nuevitas\n",
      "Processing Record 38 of Set 8 | athabasca\n",
      "Processing Record 39 of Set 8 | coahuayana\n",
      "Processing Record 40 of Set 8 | panacan\n",
      "Processing Record 41 of Set 8 | nome\n",
      "Processing Record 42 of Set 8 | ayan\n",
      "Processing Record 43 of Set 8 | yaan\n",
      "Processing Record 44 of Set 8 | hasaki\n",
      "Processing Record 45 of Set 8 | lagoa\n",
      "Processing Record 46 of Set 8 | tuatapere\n",
      "Processing Record 47 of Set 8 | san policarpo\n",
      "Processing Record 48 of Set 8 | praya\n",
      "Processing Record 49 of Set 8 | canico\n",
      "Processing Record 50 of Set 8 | saint-francois\n",
      "Processing Record 1 of Set 9 | belushya guba\n",
      "City not found. Skipping...\n",
      "Processing Record 2 of Set 9 | kaeo\n",
      "Processing Record 3 of Set 9 | zhenlai\n",
      "Processing Record 4 of Set 9 | pocatello\n",
      "Processing Record 5 of Set 9 | huarmey\n",
      "Processing Record 6 of Set 9 | chadiza\n",
      "Processing Record 7 of Set 9 | verkhnevilyuysk\n",
      "Processing Record 8 of Set 9 | kiama\n",
      "Processing Record 9 of Set 9 | sai buri\n",
      "Processing Record 10 of Set 9 | singaraja\n",
      "Processing Record 11 of Set 9 | ossora\n",
      "Processing Record 12 of Set 9 | zajecar\n",
      "Processing Record 13 of Set 9 | cairns\n",
      "Processing Record 14 of Set 9 | muros\n",
      "Processing Record 15 of Set 9 | cap-haitien\n",
      "Processing Record 16 of Set 9 | bandarbeyla\n",
      "Processing Record 17 of Set 9 | acapulco\n",
      "Processing Record 18 of Set 9 | kayes\n",
      "Processing Record 19 of Set 9 | rioja\n",
      "Processing Record 20 of Set 9 | deputatskiy\n",
      "Processing Record 21 of Set 9 | shelburne\n",
      "Processing Record 22 of Set 9 | ballina\n",
      "Processing Record 23 of Set 9 | oranjestad\n",
      "Processing Record 24 of Set 9 | penzance\n",
      "Processing Record 25 of Set 9 | tateyama\n",
      "Processing Record 26 of Set 9 | cayenne\n",
      "Processing Record 27 of Set 9 | toftir\n",
      "City not found. Skipping...\n",
      "Processing Record 28 of Set 9 | vila\n",
      "Processing Record 29 of Set 9 | aginskoye\n",
      "Processing Record 30 of Set 9 | smithers\n",
      "Processing Record 31 of Set 9 | ghugus\n",
      "Processing Record 32 of Set 9 | slavsk\n",
      "Processing Record 33 of Set 9 | carauari\n",
      "Processing Record 34 of Set 9 | tabiauea\n",
      "City not found. Skipping...\n",
      "Processing Record 35 of Set 9 | lipin bor\n",
      "Processing Record 36 of Set 9 | kidal\n",
      "Processing Record 37 of Set 9 | aguimes\n",
      "Processing Record 38 of Set 9 | araouane\n",
      "Processing Record 39 of Set 9 | anloga\n",
      "Processing Record 40 of Set 9 | marcona\n",
      "City not found. Skipping...\n",
      "Processing Record 41 of Set 9 | garowe\n",
      "Processing Record 42 of Set 9 | college\n",
      "Processing Record 43 of Set 9 | verkhnyaya sinyachikha\n",
      "Processing Record 44 of Set 9 | nouadhibou\n",
      "Processing Record 45 of Set 9 | kem\n",
      "Processing Record 46 of Set 9 | san rafael del sur\n",
      "Processing Record 47 of Set 9 | pedro betancourt\n",
      "Processing Record 48 of Set 9 | wanaka\n",
      "Processing Record 49 of Set 9 | labrea\n",
      "Processing Record 50 of Set 9 | anchorage\n",
      "Processing Record 1 of Set 10 | conceicao do mato dentro\n",
      "Processing Record 2 of Set 10 | ketchikan\n",
      "Processing Record 3 of Set 10 | cap malheureux\n",
      "Processing Record 4 of Set 10 | winneba\n",
      "Processing Record 5 of Set 10 | mahibadhoo\n",
      "Processing Record 6 of Set 10 | tuy hoa\n",
      "Processing Record 7 of Set 10 | pizarro\n",
      "Processing Record 8 of Set 10 | anderson\n",
      "Processing Record 9 of Set 10 | ust-omchug\n",
      "Processing Record 10 of Set 10 | paraiso\n",
      "Processing Record 11 of Set 10 | san patricio\n",
      "Processing Record 12 of Set 10 | san carlos de bariloche\n",
      "Processing Record 13 of Set 10 | mogok\n",
      "Processing Record 14 of Set 10 | rokiskis\n",
      "Processing Record 15 of Set 10 | morrope\n",
      "Processing Record 16 of Set 10 | vila velha\n",
      "Processing Record 17 of Set 10 | otane\n",
      "Processing Record 18 of Set 10 | rocha\n",
      "Processing Record 19 of Set 10 | esna\n",
      "Processing Record 20 of Set 10 | kruisfontein\n",
      "Processing Record 21 of Set 10 | aleksandrovka\n",
      "Processing Record 22 of Set 10 | waddan\n",
      "Processing Record 23 of Set 10 | itaguai\n",
      "Processing Record 24 of Set 10 | nevinnomyssk\n",
      "Processing Record 25 of Set 10 | arlit\n",
      "Processing Record 26 of Set 10 | beaverlodge\n",
      "Processing Record 27 of Set 10 | silifke\n",
      "Processing Record 28 of Set 10 | azrow\n",
      "City not found. Skipping...\n",
      "Processing Record 29 of Set 10 | sentyabrskiy\n",
      "City not found. Skipping...\n",
      "Processing Record 30 of Set 10 | manadhoo\n",
      "Processing Record 31 of Set 10 | barinas\n",
      "Processing Record 32 of Set 10 | doctor pedro p. pena\n",
      "City not found. Skipping...\n",
      "Processing Record 33 of Set 10 | sokolo\n",
      "Processing Record 34 of Set 10 | hualmay\n",
      "Processing Record 35 of Set 10 | bria\n",
      "Processing Record 36 of Set 10 | lasa\n",
      "Processing Record 37 of Set 10 | locri\n",
      "Processing Record 38 of Set 10 | marsabit\n",
      "Processing Record 39 of Set 10 | northam\n",
      "Processing Record 40 of Set 10 | tete\n",
      "Processing Record 41 of Set 10 | ambilobe\n",
      "Processing Record 42 of Set 10 | juazeiro\n",
      "Processing Record 43 of Set 10 | muravlenko\n",
      "Processing Record 44 of Set 10 | yerbogachen\n",
      "Processing Record 45 of Set 10 | okhotsk\n",
      "Processing Record 46 of Set 10 | pabrade\n",
      "Processing Record 47 of Set 10 | domoni\n",
      "Processing Record 48 of Set 10 | brae\n",
      "Processing Record 49 of Set 10 | pangnirtung\n",
      "Processing Record 50 of Set 10 | nyagan\n",
      "Processing Record 1 of Set 11 | vanimo\n",
      "Processing Record 2 of Set 11 | coquimbo\n",
      "Processing Record 3 of Set 11 | coihaique\n",
      "Processing Record 4 of Set 11 | taoudenni\n",
      "Processing Record 5 of Set 11 | port victoria\n",
      "Processing Record 6 of Set 11 | antalaha\n",
      "Processing Record 7 of Set 11 | madhubani\n",
      "Processing Record 8 of Set 11 | lodja\n",
      "Processing Record 9 of Set 11 | zhangjiakou\n",
      "Processing Record 10 of Set 11 | nurota\n",
      "Processing Record 11 of Set 11 | saleaula\n",
      "City not found. Skipping...\n",
      "Processing Record 12 of Set 11 | ambodifototra\n",
      "City not found. Skipping...\n",
      "Processing Record 13 of Set 11 | margate\n",
      "Processing Record 14 of Set 11 | coromandel\n",
      "Processing Record 15 of Set 11 | sorong\n",
      "Processing Record 16 of Set 11 | attock\n",
      "Processing Record 17 of Set 11 | chikwawa\n",
      "Processing Record 18 of Set 11 | havoysund\n",
      "Processing Record 19 of Set 11 | tupik\n",
      "Processing Record 20 of Set 11 | mayumba\n",
      "Processing Record 21 of Set 11 | la rioja\n",
      "Processing Record 22 of Set 11 | clyde river\n",
      "Processing Record 23 of Set 11 | rio gallegos\n",
      "Processing Record 24 of Set 11 | lagos\n",
      "Processing Record 25 of Set 11 | grand river south east\n",
      "City not found. Skipping...\n",
      "Processing Record 26 of Set 11 | kaspiyskiy\n",
      "Processing Record 27 of Set 11 | zhangye\n",
      "Processing Record 28 of Set 11 | itaituba\n",
      "Processing Record 29 of Set 11 | boralday\n",
      "Processing Record 30 of Set 11 | sfantu gheorghe\n",
      "Processing Record 31 of Set 11 | sinnamary\n",
      "Processing Record 32 of Set 11 | haibowan\n",
      "City not found. Skipping...\n",
      "Processing Record 33 of Set 11 | manono\n",
      "Processing Record 34 of Set 11 | pijijiapan\n",
      "Processing Record 35 of Set 11 | menongue\n",
      "Processing Record 36 of Set 11 | donja orahovica\n",
      "City not found. Skipping...\n",
      "Processing Record 37 of Set 11 | dayong\n",
      "Processing Record 38 of Set 11 | isabela\n",
      "Processing Record 39 of Set 11 | severnoye\n",
      "Processing Record 40 of Set 11 | plymouth\n",
      "Processing Record 41 of Set 11 | puli\n",
      "Processing Record 42 of Set 11 | ozgon\n",
      "City not found. Skipping...\n",
      "Processing Record 43 of Set 11 | lavumisa\n",
      "Processing Record 44 of Set 11 | marsh harbour\n",
      "Processing Record 45 of Set 11 | rio grande\n",
      "Processing Record 46 of Set 11 | wasilla\n",
      "Processing Record 47 of Set 11 | kazerun\n",
      "Processing Record 48 of Set 11 | do gonbadan\n",
      "Processing Record 49 of Set 11 | laguna\n",
      "Processing Record 50 of Set 11 | vawkavysk\n",
      "Processing Record 1 of Set 12 | khash\n",
      "Processing Record 2 of Set 12 | acajutla\n",
      "Processing Record 3 of Set 12 | svetlogorsk\n",
      "Processing Record 4 of Set 12 | hokitika\n",
      "Processing Record 5 of Set 12 | berlevag\n",
      "Processing Record 6 of Set 12 | coos bay\n",
      "Processing Record 7 of Set 12 | paracatu\n",
      "Processing Record 8 of Set 12 | antipovka\n",
      "Processing Record 9 of Set 12 | saldanha\n",
      "Processing Record 10 of Set 12 | brigantine\n",
      "Processing Record 11 of Set 12 | payo\n",
      "Processing Record 12 of Set 12 | korla\n",
      "Processing Record 13 of Set 12 | sabaudia\n",
      "Processing Record 14 of Set 12 | gueugnon\n",
      "Processing Record 15 of Set 12 | tommot\n",
      "Processing Record 16 of Set 12 | niesky\n",
      "Processing Record 17 of Set 12 | san jeronimo\n"
     ]
    },
    {
     "name": "stdout",
     "output_type": "stream",
     "text": [
      "Processing Record 18 of Set 12 | vilcun\n",
      "Processing Record 19 of Set 12 | kimbe\n",
      "Processing Record 20 of Set 12 | alotau\n",
      "City not found. Skipping...\n",
      "Processing Record 21 of Set 12 | nanakuli\n",
      "Processing Record 22 of Set 12 | san carlos\n",
      "Processing Record 23 of Set 12 | nacala\n",
      "Processing Record 24 of Set 12 | viligili\n",
      "City not found. Skipping...\n",
      "Processing Record 25 of Set 12 | basco\n",
      "Processing Record 26 of Set 12 | ginir\n",
      "Processing Record 27 of Set 12 | hovd\n",
      "Processing Record 28 of Set 12 | fairbanks\n",
      "Processing Record 29 of Set 12 | omsukchan\n",
      "Processing Record 30 of Set 12 | storm lake\n",
      "Processing Record 31 of Set 12 | mananara\n",
      "Processing Record 32 of Set 12 | goba\n",
      "Processing Record 33 of Set 12 | bergen\n",
      "Processing Record 34 of Set 12 | dali\n",
      "Processing Record 35 of Set 12 | lewiston\n",
      "Processing Record 36 of Set 12 | portland\n",
      "Processing Record 37 of Set 12 | sistranda\n",
      "Processing Record 38 of Set 12 | puri\n",
      "Processing Record 39 of Set 12 | cabedelo\n",
      "Processing Record 40 of Set 12 | tilichiki\n",
      "Processing Record 41 of Set 12 | dukat\n",
      "Processing Record 42 of Set 12 | takanabe\n",
      "Processing Record 43 of Set 12 | sibolga\n",
      "Processing Record 44 of Set 12 | sungaipenuh\n",
      "Processing Record 45 of Set 12 | duz\n",
      "City not found. Skipping...\n",
      "Processing Record 46 of Set 12 | arkhangelsk\n",
      "Processing Record 47 of Set 12 | faya\n",
      "Processing Record 48 of Set 12 | kyshtovka\n",
      "Processing Record 49 of Set 12 | adrar\n",
      "Processing Record 50 of Set 12 | hirara\n",
      "Processing Record 1 of Set 13 | kodinsk\n",
      "Processing Record 2 of Set 13 | ustye\n",
      "Processing Record 3 of Set 13 | padang\n",
      "Processing Record 4 of Set 13 | vrangel\n",
      "Processing Record 5 of Set 13 | pirajui\n",
      "Processing Record 6 of Set 13 | samalaeulu\n",
      "City not found. Skipping...\n",
      "Processing Record 7 of Set 13 | songjianghe\n",
      "Processing Record 8 of Set 13 | sangar\n",
      "Processing Record 9 of Set 13 | usak\n",
      "Processing Record 10 of Set 13 | daura\n",
      "Processing Record 11 of Set 13 | mackenzie\n",
      "Processing Record 12 of Set 13 | kysyl-syr\n",
      "Processing Record 13 of Set 13 | besikduzu\n",
      "Processing Record 14 of Set 13 | hagi\n",
      "Processing Record 15 of Set 13 | nago\n",
      "Processing Record 16 of Set 13 | sokoni\n",
      "Processing Record 17 of Set 13 | burkhala\n",
      "City not found. Skipping...\n",
      "Processing Record 18 of Set 13 | strenci\n",
      "Processing Record 19 of Set 13 | aykhal\n",
      "Processing Record 20 of Set 13 | sao joao da barra\n",
      "Processing Record 21 of Set 13 | elizabeth city\n"
     ]
    }
   ],
   "source": [
    "# Create an empty list to hold the weather data.\n",
    "city_data = []\n",
    "# Print the beginning of the logging.\n",
    "print(\"Beginning Data Retrieval     \")\n",
    "print(\"-----------------------------\")\n",
    "\n",
    "# Create counters.\n",
    "record_count = 1\n",
    "set_count = 1\n",
    "\n",
    "# Loop through all the cities in the list.\n",
    "for i, city in enumerate(cities):\n",
    "\n",
    "    # Group cities in sets of 50 for logging purposes.\n",
    "    if (i % 50 == 0 and i >= 50):\n",
    "        set_count += 1\n",
    "        record_count = 1\n",
    "        time.sleep(60)\n",
    "\n",
    "    # Create endpoint URL with each city.\n",
    "    city_url = url + \"&q=\" + city.replace(\" \",\"+\")\n",
    "\n",
    "    # Log the URL, record, and set numbers and the city.\n",
    "    print(f\"Processing Record {record_count} of Set {set_count} | {city}\")\n",
    "    # Add 1 to the record count.\n",
    "    record_count += 1\n",
    "    \n",
    "# Run an API request for each of the cities.\n",
    "    try:\n",
    "        # Parse the JSON and retrieve data.\n",
    "        city_weather = requests.get(city_url).json()\n",
    "        # Parse out the needed data.\n",
    "        city_lat = city_weather[\"coord\"][\"lat\"]\n",
    "        city_lng = city_weather[\"coord\"][\"lon\"]\n",
    "        city_max_temp = city_weather[\"main\"][\"temp_max\"]\n",
    "        city_humidity = city_weather[\"main\"][\"humidity\"]\n",
    "        city_clouds = city_weather[\"clouds\"][\"all\"]\n",
    "        city_wind = city_weather[\"wind\"][\"speed\"]\n",
    "        city_country = city_weather[\"sys\"][\"country\"]\n",
    "        # Convert the date to ISO standard.\n",
    "        city_date = datetime.utcfromtimestamp(city_weather[\"dt\"]).strftime('%Y-%m-%d %H:%M:%S')\n",
    "        # Append the city information into city_data list.\n",
    "        city_data.append({\"City\": city.title(),\n",
    "                          \"Lat\": city_lat,\n",
    "                          \"Lng\": city_lng,\n",
    "                          \"Max Temp\": city_max_temp,\n",
    "                          \"Humidity\": city_humidity,\n",
    "                          \"Cloudiness\": city_clouds,\n",
    "                          \"Wind Speed\": city_wind,\n",
    "                          \"Country\": city_country,\n",
    "                          \"Date\": city_date})\n",
    "\n",
    "# If an error is experienced, skip the city.\n",
    "    except:\n",
    "        print(\"City not found. Skipping...\")\n",
    "        pass\n",
    "\n",
    "# Indicate that Data Loading is complete.\n",
    "print(\"-----------------------------\")\n",
    "print(\"Data Retrieval Complete      \")\n",
    "print(\"-----------------------------\")    "
   ]
  },
  {
   "cell_type": "code",
   "execution_count": 25,
   "id": "34ce33ee",
   "metadata": {},
   "outputs": [
    {
     "data": {
      "text/plain": [
       "575"
      ]
     },
     "execution_count": 25,
     "metadata": {},
     "output_type": "execute_result"
    }
   ],
   "source": [
    "len(city_data)"
   ]
  },
  {
   "cell_type": "markdown",
   "id": "470b9a53",
   "metadata": {},
   "source": [
    "# 6.2.7 Create a DataFrame of City Weather Data"
   ]
  },
  {
   "cell_type": "markdown",
   "id": "17f6cfef",
   "metadata": {},
   "source": [
    "### Convert the array of dictionaries to a Pandas DataFrame"
   ]
  },
  {
   "cell_type": "code",
   "execution_count": 22,
   "id": "e4f039f7",
   "metadata": {},
   "outputs": [
    {
     "data": {
      "text/html": [
       "<div>\n",
       "<style scoped>\n",
       "    .dataframe tbody tr th:only-of-type {\n",
       "        vertical-align: middle;\n",
       "    }\n",
       "\n",
       "    .dataframe tbody tr th {\n",
       "        vertical-align: top;\n",
       "    }\n",
       "\n",
       "    .dataframe thead th {\n",
       "        text-align: right;\n",
       "    }\n",
       "</style>\n",
       "<table border=\"1\" class=\"dataframe\">\n",
       "  <thead>\n",
       "    <tr style=\"text-align: right;\">\n",
       "      <th></th>\n",
       "      <th>City</th>\n",
       "      <th>Lat</th>\n",
       "      <th>Lng</th>\n",
       "      <th>Max Temp</th>\n",
       "      <th>Humidity</th>\n",
       "      <th>Cloudiness</th>\n",
       "      <th>Wind Speed</th>\n",
       "      <th>Country</th>\n",
       "      <th>Date</th>\n",
       "    </tr>\n",
       "  </thead>\n",
       "  <tbody>\n",
       "    <tr>\n",
       "      <th>0</th>\n",
       "      <td>Mar Del Plata</td>\n",
       "      <td>-38.0023</td>\n",
       "      <td>-57.5575</td>\n",
       "      <td>60.87</td>\n",
       "      <td>67</td>\n",
       "      <td>99</td>\n",
       "      <td>7.00</td>\n",
       "      <td>AR</td>\n",
       "      <td>2022-01-31 06:09:29</td>\n",
       "    </tr>\n",
       "    <tr>\n",
       "      <th>1</th>\n",
       "      <td>Rikitea</td>\n",
       "      <td>-23.1203</td>\n",
       "      <td>-134.9692</td>\n",
       "      <td>77.27</td>\n",
       "      <td>63</td>\n",
       "      <td>100</td>\n",
       "      <td>5.53</td>\n",
       "      <td>PF</td>\n",
       "      <td>2022-01-31 06:04:40</td>\n",
       "    </tr>\n",
       "    <tr>\n",
       "      <th>2</th>\n",
       "      <td>Vardo</td>\n",
       "      <td>70.3705</td>\n",
       "      <td>31.1107</td>\n",
       "      <td>21.40</td>\n",
       "      <td>74</td>\n",
       "      <td>55</td>\n",
       "      <td>15.43</td>\n",
       "      <td>NO</td>\n",
       "      <td>2022-01-31 06:09:30</td>\n",
       "    </tr>\n",
       "    <tr>\n",
       "      <th>3</th>\n",
       "      <td>Saint-Philippe</td>\n",
       "      <td>-21.3585</td>\n",
       "      <td>55.7679</td>\n",
       "      <td>85.55</td>\n",
       "      <td>83</td>\n",
       "      <td>86</td>\n",
       "      <td>13.85</td>\n",
       "      <td>RE</td>\n",
       "      <td>2022-01-31 06:09:30</td>\n",
       "    </tr>\n",
       "    <tr>\n",
       "      <th>4</th>\n",
       "      <td>Udachnyy</td>\n",
       "      <td>66.4167</td>\n",
       "      <td>112.4000</td>\n",
       "      <td>-25.89</td>\n",
       "      <td>99</td>\n",
       "      <td>74</td>\n",
       "      <td>3.09</td>\n",
       "      <td>RU</td>\n",
       "      <td>2022-01-31 06:09:31</td>\n",
       "    </tr>\n",
       "    <tr>\n",
       "      <th>5</th>\n",
       "      <td>Hobart</td>\n",
       "      <td>-42.8794</td>\n",
       "      <td>147.3294</td>\n",
       "      <td>84.27</td>\n",
       "      <td>58</td>\n",
       "      <td>20</td>\n",
       "      <td>1.01</td>\n",
       "      <td>AU</td>\n",
       "      <td>2022-01-31 06:09:31</td>\n",
       "    </tr>\n",
       "    <tr>\n",
       "      <th>6</th>\n",
       "      <td>Bluff</td>\n",
       "      <td>-46.6000</td>\n",
       "      <td>168.3333</td>\n",
       "      <td>62.31</td>\n",
       "      <td>86</td>\n",
       "      <td>97</td>\n",
       "      <td>3.71</td>\n",
       "      <td>NZ</td>\n",
       "      <td>2022-01-31 06:09:32</td>\n",
       "    </tr>\n",
       "    <tr>\n",
       "      <th>7</th>\n",
       "      <td>Mataura</td>\n",
       "      <td>-46.1927</td>\n",
       "      <td>168.8643</td>\n",
       "      <td>72.48</td>\n",
       "      <td>60</td>\n",
       "      <td>94</td>\n",
       "      <td>3.98</td>\n",
       "      <td>NZ</td>\n",
       "      <td>2022-01-31 06:04:54</td>\n",
       "    </tr>\n",
       "    <tr>\n",
       "      <th>8</th>\n",
       "      <td>Makakilo City</td>\n",
       "      <td>21.3469</td>\n",
       "      <td>-158.0858</td>\n",
       "      <td>72.68</td>\n",
       "      <td>71</td>\n",
       "      <td>40</td>\n",
       "      <td>3.44</td>\n",
       "      <td>US</td>\n",
       "      <td>2022-01-31 06:09:33</td>\n",
       "    </tr>\n",
       "    <tr>\n",
       "      <th>9</th>\n",
       "      <td>Kilindoni</td>\n",
       "      <td>-7.9139</td>\n",
       "      <td>39.6668</td>\n",
       "      <td>81.41</td>\n",
       "      <td>76</td>\n",
       "      <td>52</td>\n",
       "      <td>8.75</td>\n",
       "      <td>TZ</td>\n",
       "      <td>2022-01-31 06:09:33</td>\n",
       "    </tr>\n",
       "  </tbody>\n",
       "</table>\n",
       "</div>"
      ],
      "text/plain": [
       "             City      Lat       Lng  Max Temp  Humidity  Cloudiness  \\\n",
       "0   Mar Del Plata -38.0023  -57.5575     60.87        67          99   \n",
       "1         Rikitea -23.1203 -134.9692     77.27        63         100   \n",
       "2           Vardo  70.3705   31.1107     21.40        74          55   \n",
       "3  Saint-Philippe -21.3585   55.7679     85.55        83          86   \n",
       "4        Udachnyy  66.4167  112.4000    -25.89        99          74   \n",
       "5          Hobart -42.8794  147.3294     84.27        58          20   \n",
       "6           Bluff -46.6000  168.3333     62.31        86          97   \n",
       "7         Mataura -46.1927  168.8643     72.48        60          94   \n",
       "8   Makakilo City  21.3469 -158.0858     72.68        71          40   \n",
       "9       Kilindoni  -7.9139   39.6668     81.41        76          52   \n",
       "\n",
       "   Wind Speed Country                 Date  \n",
       "0        7.00      AR  2022-01-31 06:09:29  \n",
       "1        5.53      PF  2022-01-31 06:04:40  \n",
       "2       15.43      NO  2022-01-31 06:09:30  \n",
       "3       13.85      RE  2022-01-31 06:09:30  \n",
       "4        3.09      RU  2022-01-31 06:09:31  \n",
       "5        1.01      AU  2022-01-31 06:09:31  \n",
       "6        3.71      NZ  2022-01-31 06:09:32  \n",
       "7        3.98      NZ  2022-01-31 06:04:54  \n",
       "8        3.44      US  2022-01-31 06:09:33  \n",
       "9        8.75      TZ  2022-01-31 06:09:33  "
      ]
     },
     "execution_count": 22,
     "metadata": {},
     "output_type": "execute_result"
    }
   ],
   "source": [
    "# Convert the array of dictionaries to a Pandas DataFrame.\n",
    "city_data_df = pd.DataFrame(city_data)\n",
    "city_data_df.head(10)"
   ]
  },
  {
   "cell_type": "markdown",
   "id": "bc938aaf",
   "metadata": {},
   "source": [
    "### Reorder columns in the DataFrame"
   ]
  },
  {
   "cell_type": "code",
   "execution_count": 31,
   "id": "cd4e95e2",
   "metadata": {},
   "outputs": [
    {
     "data": {
      "text/html": [
       "<div>\n",
       "<style scoped>\n",
       "    .dataframe tbody tr th:only-of-type {\n",
       "        vertical-align: middle;\n",
       "    }\n",
       "\n",
       "    .dataframe tbody tr th {\n",
       "        vertical-align: top;\n",
       "    }\n",
       "\n",
       "    .dataframe thead th {\n",
       "        text-align: right;\n",
       "    }\n",
       "</style>\n",
       "<table border=\"1\" class=\"dataframe\">\n",
       "  <thead>\n",
       "    <tr style=\"text-align: right;\">\n",
       "      <th></th>\n",
       "      <th>City</th>\n",
       "      <th>Country</th>\n",
       "      <th>Date</th>\n",
       "      <th>Lat</th>\n",
       "      <th>Lng</th>\n",
       "      <th>Max Temp</th>\n",
       "      <th>Humidity</th>\n",
       "      <th>Cloudiness</th>\n",
       "      <th>Wind Speed</th>\n",
       "    </tr>\n",
       "  </thead>\n",
       "  <tbody>\n",
       "    <tr>\n",
       "      <th>0</th>\n",
       "      <td>Mar Del Plata</td>\n",
       "      <td>AR</td>\n",
       "      <td>2022-01-31 06:09:29</td>\n",
       "      <td>-38.0023</td>\n",
       "      <td>-57.5575</td>\n",
       "      <td>60.87</td>\n",
       "      <td>67</td>\n",
       "      <td>99</td>\n",
       "      <td>7.00</td>\n",
       "    </tr>\n",
       "    <tr>\n",
       "      <th>1</th>\n",
       "      <td>Rikitea</td>\n",
       "      <td>PF</td>\n",
       "      <td>2022-01-31 06:04:40</td>\n",
       "      <td>-23.1203</td>\n",
       "      <td>-134.9692</td>\n",
       "      <td>77.27</td>\n",
       "      <td>63</td>\n",
       "      <td>100</td>\n",
       "      <td>5.53</td>\n",
       "    </tr>\n",
       "    <tr>\n",
       "      <th>2</th>\n",
       "      <td>Vardo</td>\n",
       "      <td>NO</td>\n",
       "      <td>2022-01-31 06:09:30</td>\n",
       "      <td>70.3705</td>\n",
       "      <td>31.1107</td>\n",
       "      <td>21.40</td>\n",
       "      <td>74</td>\n",
       "      <td>55</td>\n",
       "      <td>15.43</td>\n",
       "    </tr>\n",
       "    <tr>\n",
       "      <th>3</th>\n",
       "      <td>Saint-Philippe</td>\n",
       "      <td>RE</td>\n",
       "      <td>2022-01-31 06:09:30</td>\n",
       "      <td>-21.3585</td>\n",
       "      <td>55.7679</td>\n",
       "      <td>85.55</td>\n",
       "      <td>83</td>\n",
       "      <td>86</td>\n",
       "      <td>13.85</td>\n",
       "    </tr>\n",
       "    <tr>\n",
       "      <th>4</th>\n",
       "      <td>Udachnyy</td>\n",
       "      <td>RU</td>\n",
       "      <td>2022-01-31 06:09:31</td>\n",
       "      <td>66.4167</td>\n",
       "      <td>112.4000</td>\n",
       "      <td>-25.89</td>\n",
       "      <td>99</td>\n",
       "      <td>74</td>\n",
       "      <td>3.09</td>\n",
       "    </tr>\n",
       "  </tbody>\n",
       "</table>\n",
       "</div>"
      ],
      "text/plain": [
       "             City Country                 Date      Lat       Lng  Max Temp  \\\n",
       "0   Mar Del Plata      AR  2022-01-31 06:09:29 -38.0023  -57.5575     60.87   \n",
       "1         Rikitea      PF  2022-01-31 06:04:40 -23.1203 -134.9692     77.27   \n",
       "2           Vardo      NO  2022-01-31 06:09:30  70.3705   31.1107     21.40   \n",
       "3  Saint-Philippe      RE  2022-01-31 06:09:30 -21.3585   55.7679     85.55   \n",
       "4        Udachnyy      RU  2022-01-31 06:09:31  66.4167  112.4000    -25.89   \n",
       "\n",
       "   Humidity  Cloudiness  Wind Speed  \n",
       "0        67          99        7.00  \n",
       "1        63         100        5.53  \n",
       "2        74          55       15.43  \n",
       "3        83          86       13.85  \n",
       "4        99          74        3.09  "
      ]
     },
     "execution_count": 31,
     "metadata": {},
     "output_type": "execute_result"
    }
   ],
   "source": [
    "city_data_df = city_data_df[[\"City\", \"Country\", \"Date\", \"Lat\", \"Lng\", \"Max Temp\",\"Humidity\", \"Cloudiness\",\n",
    "                            \"Wind Speed\"]]\n",
    "city_data_df.head()"
   ]
  },
  {
   "cell_type": "markdown",
   "id": "219c82d0",
   "metadata": {},
   "source": [
    "### Create an output file to save the DataFrame as a CSV in a new folder for that file"
   ]
  },
  {
   "cell_type": "code",
   "execution_count": 32,
   "id": "c2315525",
   "metadata": {},
   "outputs": [],
   "source": [
    "# Create the output file (CSV).\n",
    "output_data_file = \"weather_data/cities.csv\"\n",
    "# Export the City_Data into a CSV.\n",
    "city_data_df.to_csv(output_data_file, index_label=\"City_ID\")"
   ]
  },
  {
   "cell_type": "markdown",
   "id": "21e5b0fa",
   "metadata": {},
   "source": [
    "# 6.3.1 Plot Latitude vs. Temperature"
   ]
  },
  {
   "cell_type": "markdown",
   "id": "2f4d791a",
   "metadata": {},
   "source": [
    "Retrieve the data we need to create our scatter plots. We will need latitude, maximum temperature, humidity, cloudiness, and wind speed from all the cities"
   ]
  },
  {
   "cell_type": "code",
   "execution_count": 33,
   "id": "6dfdfc87",
   "metadata": {},
   "outputs": [],
   "source": [
    "# Extract relevant fields from the DataFrame for plotting.\n",
    "lats = city_data_df[\"Lat\"]\n",
    "max_temps = city_data_df[\"Max Temp\"]\n",
    "humidity = city_data_df[\"Humidity\"]\n",
    "cloudiness = city_data_df[\"Cloudiness\"]\n",
    "wind_speed = city_data_df[\"Wind Speed\"]"
   ]
  },
  {
   "cell_type": "code",
   "execution_count": 34,
   "id": "fc5eda42",
   "metadata": {},
   "outputs": [
    {
     "data": {
      "image/png": "[encoded data removed]",
      "text/plain": [
       "<Figure size 432x288 with 1 Axes>"
      ]
     },
     "metadata": {
      "needs_background": "light"
     },
     "output_type": "display_data"
    }
   ],
   "source": [
    "# Import time module\n",
    "import time\n",
    "\n",
    "# Build the scatter plot for latitude vs. max temperature.\n",
    "plt.scatter(lats,\n",
    "            max_temps,\n",
    "            edgecolor=\"black\", linewidths=1, marker=\"o\",\n",
    "            alpha=0.8, label=\"Cities\")\n",
    "\n",
    "# Incorporate the other graph properties.\n",
    "plt.title(f\"City Latitude vs. Max Temperature \"+ time.strftime(\"%x\"))\n",
    "plt.ylabel(\"Max Temperature (F)\")\n",
    "plt.xlabel(\"Latitude\")\n",
    "plt.grid(True)\n",
    "\n",
    "# Save the figure.\n",
    "plt.savefig(\"weather_data/Fig1.png\")\n",
    "\n",
    "# Show plot.\n",
    "plt.show()"
   ]
  },
  {
   "cell_type": "markdown",
   "id": "c6e9b593",
   "metadata": {},
   "source": [
    "# 6.3.2 Plot Latitude vs. Humidity"
   ]
  },
  {
   "cell_type": "markdown",
   "id": "77c963ba",
   "metadata": {},
   "source": [
    "In addition to changing the y-axis variable to \"humidity,\" we need to change the title to \"Humidity,\" and the y-axis label to \"Humidity (%).\""
   ]
  },
  {
   "cell_type": "code",
   "execution_count": 35,
   "id": "1b739639",
   "metadata": {},
   "outputs": [
    {
     "data": {
      "image/png": "[encoded data removed]",
      "text/plain": [
       "<Figure size 432x288 with 1 Axes>"
      ]
     },
     "metadata": {
      "needs_background": "light"
     },
     "output_type": "display_data"
    }
   ],
   "source": [
    "# Build the scatter plots for latitude vs. humidity.\n",
    "plt.scatter(lats,\n",
    "            humidity,\n",
    "            edgecolor=\"black\", linewidths=1, marker=\"o\",\n",
    "            alpha=0.8, label=\"Cities\")\n",
    "\n",
    "# Incorporate the other graph properties.\n",
    "plt.title(f\"City Latitude vs. Humidity \"+ time.strftime(\"%x\"))\n",
    "plt.ylabel(\"Humidity (%)\")\n",
    "plt.xlabel(\"Latitude\")\n",
    "plt.grid(True)\n",
    "# Save the figure.\n",
    "plt.savefig(\"weather_data/Fig2.png\")\n",
    "# Show plot.\n",
    "plt.show()"
   ]
  },
  {
   "cell_type": "markdown",
   "id": "01e3a1cc",
   "metadata": {},
   "source": [
    "# 6.3.3 Plot Latitude vs. Cloudiness"
   ]
  },
  {
   "cell_type": "markdown",
   "id": "0f5ba842",
   "metadata": {},
   "source": [
    "Let's refactor the code for our scatter plots by changing the y-axis variable to \"cloudiness,\" the title to \"Cloudiness (%),\" and the y-axis label to \"Cloudiness (%).\""
   ]
  },
  {
   "cell_type": "code",
   "execution_count": 36,
   "id": "ee9ce080",
   "metadata": {},
   "outputs": [
    {
     "data": {
      "image/png": "[encoded data removed]",
      "text/plain": [
       "<Figure size 432x288 with 1 Axes>"
      ]
     },
     "metadata": {
      "needs_background": "light"
     },
     "output_type": "display_data"
    }
   ],
   "source": [
    "# Build the scatter plots for latitude vs. cloudiness.\n",
    "plt.scatter(lats,\n",
    "            cloudiness,\n",
    "            edgecolor=\"black\", linewidths=1, marker=\"o\",\n",
    "            alpha=0.8, label=\"Cities\")\n",
    "\n",
    "# Incorporate the other graph properties.\n",
    "plt.title(f\"City Latitude vs. Cloudiness (%) \"+ time.strftime(\"%x\"))\n",
    "plt.ylabel(\"Cloudiness (%)\")\n",
    "plt.xlabel(\"Latitude\")\n",
    "plt.grid(True)\n",
    "# Save the figure.\n",
    "plt.savefig(\"weather_data/Fig3.png\")\n",
    "# Show plot.\n",
    "plt.show()"
   ]
  },
  {
   "cell_type": "markdown",
   "id": "ea582e50",
   "metadata": {},
   "source": [
    "# 6.3.4 Plot Latitude vs. Wind Speed"
   ]
  },
  {
   "cell_type": "markdown",
   "id": "b7912beb",
   "metadata": {},
   "source": [
    "Let's repurpose the code we have been using and change the y-axis variable to \"wind speed,\" the title to \"Wind Speed,\" and the y-axis label to \"Wind Speed (mph).\""
   ]
  },
  {
   "cell_type": "code",
   "execution_count": 37,
   "id": "deeffd3a",
   "metadata": {},
   "outputs": [
    {
     "data": {
      "image/png": "[encoded data removed]",
      "text/plain": [
       "<Figure size 432x288 with 1 Axes>"
      ]
     },
     "metadata": {
      "needs_background": "light"
     },
     "output_type": "display_data"
    }
   ],
   "source": [
    "# Build the scatter plots for latitude vs. wind speed.\n",
    "plt.scatter(lats,\n",
    "            wind_speed,\n",
    "            edgecolor=\"black\", linewidths=1, marker=\"o\",\n",
    "            alpha=0.8, label=\"Cities\")\n",
    "\n",
    "# Incorporate the other graph properties.\n",
    "plt.title(f\"City Latitude vs. Wind Speed \"+ time.strftime(\"%x\"))\n",
    "plt.ylabel(\"Wind Speed (mph)\")\n",
    "plt.xlabel(\"Latitude\")\n",
    "plt.grid(True)\n",
    "# Save the figure.\n",
    "plt.savefig(\"weather_data/Fig4.png\")\n",
    "# Show plot.\n",
    "plt.show()"
   ]
  },
  {
   "cell_type": "code",
   "execution_count": null,
   "id": "010047b7",
   "metadata": {},
   "outputs": [],
   "source": []
  },
  {
   "cell_type": "code",
   "execution_count": null,
   "id": "00273774",
   "metadata": {},
   "outputs": [],
   "source": []
  },
  {
   "cell_type": "code",
   "execution_count": null,
   "id": "3c5803ce",
   "metadata": {},
   "outputs": [],
   "source": []
  }
 ],
 "metadata": {
  "kernelspec": {
   "display_name": "Python 3 (ipykernel)",
   "language": "python",
   "name": "python3"
  },
  "language_info": {
   "codemirror_mode": {
    "name": "ipython",
    "version": 3
   },
   "file_extension": ".py",
   "mimetype": "text/x-python",
   "name": "python",
   "nbconvert_exporter": "python",
   "pygments_lexer": "ipython3",
   "version": "3.9.7"
  }
 },
 "nbformat": 4,
 "nbformat_minor": 5
}
